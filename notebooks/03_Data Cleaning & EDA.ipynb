{
 "cells": [
  {
   "cell_type": "markdown",
   "metadata": {},
   "source": [
    "#### The following notebook walks you thru the steps of Data Cleaning, Data Engneering and EDA.\n",
    "\n",
    "___"
   ]
  },
  {
   "cell_type": "code",
   "execution_count": 1,
   "metadata": {},
   "outputs": [],
   "source": [
    "# priting over 1 line of code within the same cell\n",
    "\n",
    "from IPython.core.interactiveshell import InteractiveShell\n",
    "InteractiveShell.ast_node_interactivity = \"all\""
   ]
  },
  {
   "cell_type": "code",
   "execution_count": 2,
   "metadata": {},
   "outputs": [],
   "source": [
    "# importing required libraries\n",
    "import pandas as pd\n",
    "import numpy as np\n",
    "from collections import defaultdict\n",
    "\n",
    "# Visualization\n",
    "import missingno\n",
    "import matplotlib.pyplot as plt\n",
    "import seaborn as sns\n",
    "sns.set(style='darkgrid')\n",
    "\n",
    "# regext\n",
    "import re\n",
    "\n",
    "# extra\n",
    "import warnings\n",
    "warnings.filterwarnings('ignore')\n",
    "import random\n",
    "from collections import Counter\n",
    "import time"
   ]
  },
  {
   "cell_type": "code",
   "execution_count": 3,
   "metadata": {},
   "outputs": [],
   "source": [
    "df= pd.read_csv('../files/blocks_btc.csv')"
   ]
  },
  {
   "cell_type": "code",
   "execution_count": 4,
   "metadata": {},
   "outputs": [
    {
     "data": {
      "text/plain": [
       "(1480322, 18)"
      ]
     },
     "execution_count": 4,
     "metadata": {},
     "output_type": "execute_result"
    },
    {
     "name": "stdout",
     "output_type": "stream",
     "text": [
      "<class 'pandas.core.frame.DataFrame'>\n",
      "RangeIndex: 1480322 entries, 0 to 1480321\n",
      "Data columns (total 18 columns):\n",
      "Unnamed: 0               1480322 non-null int64\n",
      "hash                     1480322 non-null object\n",
      "size                     1480322 non-null int64\n",
      "virtual_size             1480322 non-null int64\n",
      "version                  1480322 non-null int64\n",
      "lock_time                1480322 non-null int64\n",
      "block_hash               1480322 non-null object\n",
      "block_number             1480322 non-null int64\n",
      "block_timestamp          1480322 non-null object\n",
      "block_timestamp_month    1480322 non-null object\n",
      "input_count              1480322 non-null int64\n",
      "output_count             1480322 non-null int64\n",
      "input_value              1480322 non-null float64\n",
      "output_value             1480322 non-null float64\n",
      "is_coinbase              1480322 non-null bool\n",
      "fee                      1480322 non-null float64\n",
      "inputs                   1480322 non-null object\n",
      "outputs                  1480322 non-null object\n",
      "dtypes: bool(1), float64(3), int64(8), object(6)\n",
      "memory usage: 193.4+ MB\n"
     ]
    }
   ],
   "source": [
    "df.shape\n",
    "df.info()"
   ]
  },
  {
   "cell_type": "code",
   "execution_count": 5,
   "metadata": {},
   "outputs": [
    {
     "data": {
      "text/plain": [
       "697"
      ]
     },
     "execution_count": 5,
     "metadata": {},
     "output_type": "execute_result"
    }
   ],
   "source": [
    "# precisely... They are all coinbase tx aka. recently mined tx that got a reward\n",
    "\n",
    "len(df[df['is_coinbase']== True])"
   ]
  },
  {
   "cell_type": "markdown",
   "metadata": {},
   "source": [
    "<br>"
   ]
  },
  {
   "cell_type": "code",
   "execution_count": 8,
   "metadata": {},
   "outputs": [
    {
     "data": {
      "text/html": [
       "<div>\n",
       "<style scoped>\n",
       "    .dataframe tbody tr th:only-of-type {\n",
       "        vertical-align: middle;\n",
       "    }\n",
       "\n",
       "    .dataframe tbody tr th {\n",
       "        vertical-align: top;\n",
       "    }\n",
       "\n",
       "    .dataframe thead th {\n",
       "        text-align: right;\n",
       "    }\n",
       "</style>\n",
       "<table border=\"1\" class=\"dataframe\">\n",
       "  <thead>\n",
       "    <tr style=\"text-align: right;\">\n",
       "      <th></th>\n",
       "      <th>Unnamed: 0</th>\n",
       "      <th>size</th>\n",
       "      <th>virtual_size</th>\n",
       "      <th>version</th>\n",
       "      <th>lock_time</th>\n",
       "      <th>block_number</th>\n",
       "      <th>input_count</th>\n",
       "      <th>output_count</th>\n",
       "      <th>input_value</th>\n",
       "      <th>output_value</th>\n",
       "      <th>fee</th>\n",
       "    </tr>\n",
       "  </thead>\n",
       "  <tbody>\n",
       "    <tr>\n",
       "      <td>count</td>\n",
       "      <td>1.482749e+06</td>\n",
       "      <td>1.482749e+06</td>\n",
       "      <td>1.482749e+06</td>\n",
       "      <td>1.482749e+06</td>\n",
       "      <td>1.482749e+06</td>\n",
       "      <td>1.482749e+06</td>\n",
       "      <td>1.482749e+06</td>\n",
       "      <td>1.482749e+06</td>\n",
       "      <td>1.482749e+06</td>\n",
       "      <td>1.482749e+06</td>\n",
       "      <td>1.482749e+06</td>\n",
       "    </tr>\n",
       "    <tr>\n",
       "      <td>mean</td>\n",
       "      <td>7.413740e+05</td>\n",
       "      <td>6.222218e+02</td>\n",
       "      <td>4.690850e+02</td>\n",
       "      <td>1.374295e+00</td>\n",
       "      <td>7.364162e+05</td>\n",
       "      <td>6.791807e+05</td>\n",
       "      <td>2.848061e+00</td>\n",
       "      <td>3.494734e+00</td>\n",
       "      <td>6.135567e+08</td>\n",
       "      <td>6.138509e+08</td>\n",
       "      <td>4.225701e+04</td>\n",
       "    </tr>\n",
       "    <tr>\n",
       "      <td>std</td>\n",
       "      <td>4.280329e+05</td>\n",
       "      <td>3.508912e+03</td>\n",
       "      <td>2.447686e+03</td>\n",
       "      <td>4.839404e-01</td>\n",
       "      <td>2.835900e+07</td>\n",
       "      <td>1.976228e+02</td>\n",
       "      <td>1.885039e+01</td>\n",
       "      <td>1.799278e+01</td>\n",
       "      <td>1.834746e+10</td>\n",
       "      <td>1.834745e+10</td>\n",
       "      <td>2.114416e+05</td>\n",
       "    </tr>\n",
       "    <tr>\n",
       "      <td>min</td>\n",
       "      <td>0.000000e+00</td>\n",
       "      <td>8.500000e+01</td>\n",
       "      <td>8.500000e+01</td>\n",
       "      <td>1.000000e+00</td>\n",
       "      <td>0.000000e+00</td>\n",
       "      <td>6.788290e+05</td>\n",
       "      <td>0.000000e+00</td>\n",
       "      <td>1.000000e+00</td>\n",
       "      <td>0.000000e+00</td>\n",
       "      <td>0.000000e+00</td>\n",
       "      <td>0.000000e+00</td>\n",
       "    </tr>\n",
       "    <tr>\n",
       "      <td>25%</td>\n",
       "      <td>3.706870e+05</td>\n",
       "      <td>2.230000e+02</td>\n",
       "      <td>1.680000e+02</td>\n",
       "      <td>1.000000e+00</td>\n",
       "      <td>0.000000e+00</td>\n",
       "      <td>6.790140e+05</td>\n",
       "      <td>1.000000e+00</td>\n",
       "      <td>1.000000e+00</td>\n",
       "      <td>4.482390e+05</td>\n",
       "      <td>4.289530e+05</td>\n",
       "      <td>1.342700e+04</td>\n",
       "    </tr>\n",
       "    <tr>\n",
       "      <td>50%</td>\n",
       "      <td>7.413740e+05</td>\n",
       "      <td>2.450000e+02</td>\n",
       "      <td>2.230000e+02</td>\n",
       "      <td>1.000000e+00</td>\n",
       "      <td>0.000000e+00</td>\n",
       "      <td>6.791780e+05</td>\n",
       "      <td>1.000000e+00</td>\n",
       "      <td>2.000000e+00</td>\n",
       "      <td>1.876934e+06</td>\n",
       "      <td>1.857018e+06</td>\n",
       "      <td>1.938300e+04</td>\n",
       "    </tr>\n",
       "    <tr>\n",
       "      <td>75%</td>\n",
       "      <td>1.112061e+06</td>\n",
       "      <td>3.730000e+02</td>\n",
       "      <td>2.570000e+02</td>\n",
       "      <td>2.000000e+00</td>\n",
       "      <td>0.000000e+00</td>\n",
       "      <td>6.793500e+05</td>\n",
       "      <td>1.000000e+00</td>\n",
       "      <td>2.000000e+00</td>\n",
       "      <td>1.778780e+07</td>\n",
       "      <td>1.785332e+07</td>\n",
       "      <td>2.794800e+04</td>\n",
       "    </tr>\n",
       "    <tr>\n",
       "      <td>max</td>\n",
       "      <td>1.482748e+06</td>\n",
       "      <td>2.244770e+05</td>\n",
       "      <td>1.431090e+05</td>\n",
       "      <td>2.000000e+00</td>\n",
       "      <td>4.236579e+09</td>\n",
       "      <td>6.795250e+05</td>\n",
       "      <td>1.351000e+03</td>\n",
       "      <td>4.327000e+03</td>\n",
       "      <td>1.272682e+12</td>\n",
       "      <td>1.272681e+12</td>\n",
       "      <td>2.191089e+07</td>\n",
       "    </tr>\n",
       "  </tbody>\n",
       "</table>\n",
       "</div>"
      ],
      "text/plain": [
       "         Unnamed: 0          size  virtual_size       version     lock_time  \\\n",
       "count  1.482749e+06  1.482749e+06  1.482749e+06  1.482749e+06  1.482749e+06   \n",
       "mean   7.413740e+05  6.222218e+02  4.690850e+02  1.374295e+00  7.364162e+05   \n",
       "std    4.280329e+05  3.508912e+03  2.447686e+03  4.839404e-01  2.835900e+07   \n",
       "min    0.000000e+00  8.500000e+01  8.500000e+01  1.000000e+00  0.000000e+00   \n",
       "25%    3.706870e+05  2.230000e+02  1.680000e+02  1.000000e+00  0.000000e+00   \n",
       "50%    7.413740e+05  2.450000e+02  2.230000e+02  1.000000e+00  0.000000e+00   \n",
       "75%    1.112061e+06  3.730000e+02  2.570000e+02  2.000000e+00  0.000000e+00   \n",
       "max    1.482748e+06  2.244770e+05  1.431090e+05  2.000000e+00  4.236579e+09   \n",
       "\n",
       "       block_number   input_count  output_count   input_value  output_value  \\\n",
       "count  1.482749e+06  1.482749e+06  1.482749e+06  1.482749e+06  1.482749e+06   \n",
       "mean   6.791807e+05  2.848061e+00  3.494734e+00  6.135567e+08  6.138509e+08   \n",
       "std    1.976228e+02  1.885039e+01  1.799278e+01  1.834746e+10  1.834745e+10   \n",
       "min    6.788290e+05  0.000000e+00  1.000000e+00  0.000000e+00  0.000000e+00   \n",
       "25%    6.790140e+05  1.000000e+00  1.000000e+00  4.482390e+05  4.289530e+05   \n",
       "50%    6.791780e+05  1.000000e+00  2.000000e+00  1.876934e+06  1.857018e+06   \n",
       "75%    6.793500e+05  1.000000e+00  2.000000e+00  1.778780e+07  1.785332e+07   \n",
       "max    6.795250e+05  1.351000e+03  4.327000e+03  1.272682e+12  1.272681e+12   \n",
       "\n",
       "                fee  \n",
       "count  1.482749e+06  \n",
       "mean   4.225701e+04  \n",
       "std    2.114416e+05  \n",
       "min    0.000000e+00  \n",
       "25%    1.342700e+04  \n",
       "50%    1.938300e+04  \n",
       "75%    2.794800e+04  \n",
       "max    2.191089e+07  "
      ]
     },
     "execution_count": 8,
     "metadata": {},
     "output_type": "execute_result"
    }
   ],
   "source": [
    "df.describe()"
   ]
  },
  {
   "cell_type": "code",
   "execution_count": 8,
   "metadata": {},
   "outputs": [
    {
     "data": {
      "text/html": [
       "<div>\n",
       "<style scoped>\n",
       "    .dataframe tbody tr th:only-of-type {\n",
       "        vertical-align: middle;\n",
       "    }\n",
       "\n",
       "    .dataframe tbody tr th {\n",
       "        vertical-align: top;\n",
       "    }\n",
       "\n",
       "    .dataframe thead th {\n",
       "        text-align: right;\n",
       "    }\n",
       "</style>\n",
       "<table border=\"1\" class=\"dataframe\">\n",
       "  <thead>\n",
       "    <tr style=\"text-align: right;\">\n",
       "      <th></th>\n",
       "      <th>Unnamed: 0</th>\n",
       "      <th>hash</th>\n",
       "      <th>size</th>\n",
       "      <th>virtual_size</th>\n",
       "      <th>version</th>\n",
       "      <th>lock_time</th>\n",
       "      <th>block_hash</th>\n",
       "      <th>block_number</th>\n",
       "      <th>block_timestamp</th>\n",
       "      <th>block_timestamp_month</th>\n",
       "      <th>input_count</th>\n",
       "      <th>output_count</th>\n",
       "      <th>input_value</th>\n",
       "      <th>output_value</th>\n",
       "      <th>is_coinbase</th>\n",
       "      <th>fee</th>\n",
       "      <th>inputs</th>\n",
       "      <th>outputs</th>\n",
       "    </tr>\n",
       "  </thead>\n",
       "  <tbody>\n",
       "    <tr>\n",
       "      <td>0</td>\n",
       "      <td>0</td>\n",
       "      <td>114e784709ebffef55d7d854d74108854c30e8d033f61f...</td>\n",
       "      <td>2581</td>\n",
       "      <td>2581</td>\n",
       "      <td>2</td>\n",
       "      <td>0</td>\n",
       "      <td>0000000000000000000a74535081f831163fe6ebbcbb5c...</td>\n",
       "      <td>678829</td>\n",
       "      <td>2021-04-11 23:58:57</td>\n",
       "      <td>2021-04-01 00:00:00</td>\n",
       "      <td>17</td>\n",
       "      <td>2</td>\n",
       "      <td>0.020365</td>\n",
       "      <td>0.020158</td>\n",
       "      <td>False</td>\n",
       "      <td>0.000208</td>\n",
       "      <td>[{'index': 0, 'spent_transaction_hash': 'b836b...</td>\n",
       "      <td>[{'index': 0, 'script_asm': 'OP_HASH160 07b6f5...</td>\n",
       "    </tr>\n",
       "    <tr>\n",
       "      <td>1</td>\n",
       "      <td>1</td>\n",
       "      <td>2eadc3012d7e436c4841484ff4b858bde91ae756988368...</td>\n",
       "      <td>190</td>\n",
       "      <td>190</td>\n",
       "      <td>1</td>\n",
       "      <td>0</td>\n",
       "      <td>0000000000000000000a74535081f831163fe6ebbcbb5c...</td>\n",
       "      <td>678829</td>\n",
       "      <td>2021-04-11 23:58:57</td>\n",
       "      <td>2021-04-01 00:00:00</td>\n",
       "      <td>1</td>\n",
       "      <td>1</td>\n",
       "      <td>0.003503</td>\n",
       "      <td>0.003490</td>\n",
       "      <td>False</td>\n",
       "      <td>0.000014</td>\n",
       "      <td>[{'index': 0, 'spent_transaction_hash': '732b8...</td>\n",
       "      <td>[{'index': 0, 'script_asm': 'OP_HASH160 b05671...</td>\n",
       "    </tr>\n",
       "    <tr>\n",
       "      <td>2</td>\n",
       "      <td>2</td>\n",
       "      <td>c1758deb5405ac826d0823b2cf7a4eff14663d45abb176...</td>\n",
       "      <td>191</td>\n",
       "      <td>110</td>\n",
       "      <td>2</td>\n",
       "      <td>0</td>\n",
       "      <td>0000000000000000000a74535081f831163fe6ebbcbb5c...</td>\n",
       "      <td>678829</td>\n",
       "      <td>2021-04-11 23:58:57</td>\n",
       "      <td>2021-04-01 00:00:00</td>\n",
       "      <td>1</td>\n",
       "      <td>1</td>\n",
       "      <td>0.033442</td>\n",
       "      <td>0.033423</td>\n",
       "      <td>False</td>\n",
       "      <td>0.000019</td>\n",
       "      <td>[{'index': 0, 'spent_transaction_hash': 'e83d0...</td>\n",
       "      <td>[{'index': 0, 'script_asm': '0 6f331426cbd02b8...</td>\n",
       "    </tr>\n",
       "    <tr>\n",
       "      <td>3</td>\n",
       "      <td>3</td>\n",
       "      <td>4f2980ca294f9d1c5a105bef52caadcfc04bf93f2e1746...</td>\n",
       "      <td>247</td>\n",
       "      <td>166</td>\n",
       "      <td>2</td>\n",
       "      <td>678828</td>\n",
       "      <td>0000000000000000000a74535081f831163fe6ebbcbb5c...</td>\n",
       "      <td>678829</td>\n",
       "      <td>2021-04-11 23:58:57</td>\n",
       "      <td>2021-04-01 00:00:00</td>\n",
       "      <td>1</td>\n",
       "      <td>2</td>\n",
       "      <td>0.419278</td>\n",
       "      <td>0.419185</td>\n",
       "      <td>False</td>\n",
       "      <td>0.000093</td>\n",
       "      <td>[{'index': 0, 'spent_transaction_hash': '3e0ef...</td>\n",
       "      <td>[{'index': 0, 'script_asm': 'OP_HASH160 51fade...</td>\n",
       "    </tr>\n",
       "    <tr>\n",
       "      <td>4</td>\n",
       "      <td>4</td>\n",
       "      <td>9b216431ff886113e67191b81f659bba2246257d3ca6c1...</td>\n",
       "      <td>418</td>\n",
       "      <td>256</td>\n",
       "      <td>2</td>\n",
       "      <td>0</td>\n",
       "      <td>0000000000000000000a74535081f831163fe6ebbcbb5c...</td>\n",
       "      <td>678829</td>\n",
       "      <td>2021-04-11 23:58:57</td>\n",
       "      <td>2021-04-01 00:00:00</td>\n",
       "      <td>2</td>\n",
       "      <td>2</td>\n",
       "      <td>0.011296</td>\n",
       "      <td>0.011219</td>\n",
       "      <td>False</td>\n",
       "      <td>0.000076</td>\n",
       "      <td>[{'index': 0, 'spent_transaction_hash': 'c1724...</td>\n",
       "      <td>[{'index': 0, 'script_asm': 'OP_HASH160 523629...</td>\n",
       "    </tr>\n",
       "  </tbody>\n",
       "</table>\n",
       "</div>"
      ],
      "text/plain": [
       "   Unnamed: 0                                               hash  size  \\\n",
       "0           0  114e784709ebffef55d7d854d74108854c30e8d033f61f...  2581   \n",
       "1           1  2eadc3012d7e436c4841484ff4b858bde91ae756988368...   190   \n",
       "2           2  c1758deb5405ac826d0823b2cf7a4eff14663d45abb176...   191   \n",
       "3           3  4f2980ca294f9d1c5a105bef52caadcfc04bf93f2e1746...   247   \n",
       "4           4  9b216431ff886113e67191b81f659bba2246257d3ca6c1...   418   \n",
       "\n",
       "   virtual_size  version  lock_time  \\\n",
       "0          2581        2          0   \n",
       "1           190        1          0   \n",
       "2           110        2          0   \n",
       "3           166        2     678828   \n",
       "4           256        2          0   \n",
       "\n",
       "                                          block_hash  block_number  \\\n",
       "0  0000000000000000000a74535081f831163fe6ebbcbb5c...        678829   \n",
       "1  0000000000000000000a74535081f831163fe6ebbcbb5c...        678829   \n",
       "2  0000000000000000000a74535081f831163fe6ebbcbb5c...        678829   \n",
       "3  0000000000000000000a74535081f831163fe6ebbcbb5c...        678829   \n",
       "4  0000000000000000000a74535081f831163fe6ebbcbb5c...        678829   \n",
       "\n",
       "       block_timestamp block_timestamp_month  input_count  output_count  \\\n",
       "0  2021-04-11 23:58:57   2021-04-01 00:00:00           17             2   \n",
       "1  2021-04-11 23:58:57   2021-04-01 00:00:00            1             1   \n",
       "2  2021-04-11 23:58:57   2021-04-01 00:00:00            1             1   \n",
       "3  2021-04-11 23:58:57   2021-04-01 00:00:00            1             2   \n",
       "4  2021-04-11 23:58:57   2021-04-01 00:00:00            2             2   \n",
       "\n",
       "   input_value  output_value  is_coinbase       fee  \\\n",
       "0     0.020365      0.020158        False  0.000208   \n",
       "1     0.003503      0.003490        False  0.000014   \n",
       "2     0.033442      0.033423        False  0.000019   \n",
       "3     0.419278      0.419185        False  0.000093   \n",
       "4     0.011296      0.011219        False  0.000076   \n",
       "\n",
       "                                              inputs  \\\n",
       "0  [{'index': 0, 'spent_transaction_hash': 'b836b...   \n",
       "1  [{'index': 0, 'spent_transaction_hash': '732b8...   \n",
       "2  [{'index': 0, 'spent_transaction_hash': 'e83d0...   \n",
       "3  [{'index': 0, 'spent_transaction_hash': '3e0ef...   \n",
       "4  [{'index': 0, 'spent_transaction_hash': 'c1724...   \n",
       "\n",
       "                                             outputs  \n",
       "0  [{'index': 0, 'script_asm': 'OP_HASH160 07b6f5...  \n",
       "1  [{'index': 0, 'script_asm': 'OP_HASH160 b05671...  \n",
       "2  [{'index': 0, 'script_asm': '0 6f331426cbd02b8...  \n",
       "3  [{'index': 0, 'script_asm': 'OP_HASH160 51fade...  \n",
       "4  [{'index': 0, 'script_asm': 'OP_HASH160 523629...  "
      ]
     },
     "execution_count": 8,
     "metadata": {},
     "output_type": "execute_result"
    }
   ],
   "source": [
    "# visualizing the df\n",
    "\n",
    "df.head()"
   ]
  },
  {
   "cell_type": "code",
   "execution_count": 25,
   "metadata": {},
   "outputs": [],
   "source": [
    "cool= df[df['is_coinbase'] == True]"
   ]
  },
  {
   "cell_type": "code",
   "execution_count": 49,
   "metadata": {},
   "outputs": [
    {
     "data": {
      "text/plain": [
       "0.36806251999999995"
      ]
     },
     "execution_count": 49,
     "metadata": {},
     "output_type": "execute_result"
    }
   ],
   "source": []
  },
  {
   "cell_type": "code",
   "execution_count": 35,
   "metadata": {},
   "outputs": [
    {
     "data": {
      "text/html": [
       "<div>\n",
       "<style scoped>\n",
       "    .dataframe tbody tr th:only-of-type {\n",
       "        vertical-align: middle;\n",
       "    }\n",
       "\n",
       "    .dataframe tbody tr th {\n",
       "        vertical-align: top;\n",
       "    }\n",
       "\n",
       "    .dataframe thead th {\n",
       "        text-align: right;\n",
       "    }\n",
       "</style>\n",
       "<table border=\"1\" class=\"dataframe\">\n",
       "  <thead>\n",
       "    <tr style=\"text-align: right;\">\n",
       "      <th></th>\n",
       "      <th>Unnamed: 0</th>\n",
       "      <th>hash</th>\n",
       "      <th>size</th>\n",
       "      <th>virtual_size</th>\n",
       "      <th>version</th>\n",
       "      <th>lock_time</th>\n",
       "      <th>block_hash</th>\n",
       "      <th>block_number</th>\n",
       "      <th>block_timestamp</th>\n",
       "      <th>block_timestamp_month</th>\n",
       "      <th>input_count</th>\n",
       "      <th>output_count</th>\n",
       "      <th>input_value</th>\n",
       "      <th>output_value</th>\n",
       "      <th>is_coinbase</th>\n",
       "      <th>fee</th>\n",
       "      <th>inputs</th>\n",
       "      <th>outputs</th>\n",
       "    </tr>\n",
       "  </thead>\n",
       "  <tbody>\n",
       "    <tr>\n",
       "      <td>1470</td>\n",
       "      <td>1470</td>\n",
       "      <td>e6e4034506ef184cc34655c23c019c13475a46172577c6...</td>\n",
       "      <td>331</td>\n",
       "      <td>304</td>\n",
       "      <td>1</td>\n",
       "      <td>12388320</td>\n",
       "      <td>0000000000000000000a74535081f831163fe6ebbcbb5c...</td>\n",
       "      <td>678829</td>\n",
       "      <td>2021-04-11 23:58:57</td>\n",
       "      <td>2021-04-01 00:00:00</td>\n",
       "      <td>0</td>\n",
       "      <td>4</td>\n",
       "      <td>0.0</td>\n",
       "      <td>6.618063</td>\n",
       "      <td>True</td>\n",
       "      <td>0.0</td>\n",
       "      <td>[]</td>\n",
       "      <td>[{'index': 0, 'script_asm': 'OP_DUP OP_HASH160...</td>\n",
       "    </tr>\n",
       "    <tr>\n",
       "      <td>2667</td>\n",
       "      <td>2667</td>\n",
       "      <td>fc005b28ca06c57ffad9e55e4917f7aa8bd52df8a9b7a5...</td>\n",
       "      <td>252</td>\n",
       "      <td>225</td>\n",
       "      <td>1</td>\n",
       "      <td>0</td>\n",
       "      <td>00000000000000000004d147c3f938ea7f8a2120f5e2b0...</td>\n",
       "      <td>678830</td>\n",
       "      <td>2021-04-12 00:11:12</td>\n",
       "      <td>2021-04-01 00:00:00</td>\n",
       "      <td>0</td>\n",
       "      <td>2</td>\n",
       "      <td>0.0</td>\n",
       "      <td>7.035754</td>\n",
       "      <td>True</td>\n",
       "      <td>0.0</td>\n",
       "      <td>[]</td>\n",
       "      <td>[{'index': 0, 'script_asm': 'OP_DUP OP_HASH160...</td>\n",
       "    </tr>\n",
       "    <tr>\n",
       "      <td>4380</td>\n",
       "      <td>4380</td>\n",
       "      <td>61be623a64f971efb5165207ab5bd510b2e553aa28f5f8...</td>\n",
       "      <td>313</td>\n",
       "      <td>286</td>\n",
       "      <td>1</td>\n",
       "      <td>0</td>\n",
       "      <td>00000000000000000006c118e40d1faeaf4c7a1ffe3c18...</td>\n",
       "      <td>678831</td>\n",
       "      <td>2021-04-12 00:26:29</td>\n",
       "      <td>2021-04-01 00:00:00</td>\n",
       "      <td>0</td>\n",
       "      <td>3</td>\n",
       "      <td>0.0</td>\n",
       "      <td>6.957694</td>\n",
       "      <td>True</td>\n",
       "      <td>0.0</td>\n",
       "      <td>[]</td>\n",
       "      <td>[{'index': 0, 'script_asm': 'OP_DUP OP_HASH160...</td>\n",
       "    </tr>\n",
       "    <tr>\n",
       "      <td>6156</td>\n",
       "      <td>6156</td>\n",
       "      <td>96f351ea9232a535d6566eaa806b7c2833e5fba658bd72...</td>\n",
       "      <td>334</td>\n",
       "      <td>307</td>\n",
       "      <td>1</td>\n",
       "      <td>516130886</td>\n",
       "      <td>000000000000000000051b16891443cbafc8fcb517bfb1...</td>\n",
       "      <td>678832</td>\n",
       "      <td>2021-04-12 00:59:20</td>\n",
       "      <td>2021-04-01 00:00:00</td>\n",
       "      <td>0</td>\n",
       "      <td>4</td>\n",
       "      <td>0.0</td>\n",
       "      <td>7.105134</td>\n",
       "      <td>True</td>\n",
       "      <td>0.0</td>\n",
       "      <td>[]</td>\n",
       "      <td>[{'index': 0, 'script_asm': 'OP_DUP OP_HASH160...</td>\n",
       "    </tr>\n",
       "    <tr>\n",
       "      <td>8135</td>\n",
       "      <td>8135</td>\n",
       "      <td>12523398c266ed8bbf9017901e58a5488ab2c8ed6aab59...</td>\n",
       "      <td>197</td>\n",
       "      <td>170</td>\n",
       "      <td>2</td>\n",
       "      <td>0</td>\n",
       "      <td>00000000000000000004b644c92936012e25cc4d7aa99b...</td>\n",
       "      <td>678833</td>\n",
       "      <td>2021-04-12 01:00:59</td>\n",
       "      <td>2021-04-01 00:00:00</td>\n",
       "      <td>0</td>\n",
       "      <td>2</td>\n",
       "      <td>0.0</td>\n",
       "      <td>6.545583</td>\n",
       "      <td>True</td>\n",
       "      <td>0.0</td>\n",
       "      <td>[]</td>\n",
       "      <td>[{'index': 0, 'script_asm': '0 3156afc42499150...</td>\n",
       "    </tr>\n",
       "  </tbody>\n",
       "</table>\n",
       "</div>"
      ],
      "text/plain": [
       "      Unnamed: 0                                               hash  size  \\\n",
       "1470        1470  e6e4034506ef184cc34655c23c019c13475a46172577c6...   331   \n",
       "2667        2667  fc005b28ca06c57ffad9e55e4917f7aa8bd52df8a9b7a5...   252   \n",
       "4380        4380  61be623a64f971efb5165207ab5bd510b2e553aa28f5f8...   313   \n",
       "6156        6156  96f351ea9232a535d6566eaa806b7c2833e5fba658bd72...   334   \n",
       "8135        8135  12523398c266ed8bbf9017901e58a5488ab2c8ed6aab59...   197   \n",
       "\n",
       "      virtual_size  version  lock_time  \\\n",
       "1470           304        1   12388320   \n",
       "2667           225        1          0   \n",
       "4380           286        1          0   \n",
       "6156           307        1  516130886   \n",
       "8135           170        2          0   \n",
       "\n",
       "                                             block_hash  block_number  \\\n",
       "1470  0000000000000000000a74535081f831163fe6ebbcbb5c...        678829   \n",
       "2667  00000000000000000004d147c3f938ea7f8a2120f5e2b0...        678830   \n",
       "4380  00000000000000000006c118e40d1faeaf4c7a1ffe3c18...        678831   \n",
       "6156  000000000000000000051b16891443cbafc8fcb517bfb1...        678832   \n",
       "8135  00000000000000000004b644c92936012e25cc4d7aa99b...        678833   \n",
       "\n",
       "          block_timestamp block_timestamp_month  input_count  output_count  \\\n",
       "1470  2021-04-11 23:58:57   2021-04-01 00:00:00            0             4   \n",
       "2667  2021-04-12 00:11:12   2021-04-01 00:00:00            0             2   \n",
       "4380  2021-04-12 00:26:29   2021-04-01 00:00:00            0             3   \n",
       "6156  2021-04-12 00:59:20   2021-04-01 00:00:00            0             4   \n",
       "8135  2021-04-12 01:00:59   2021-04-01 00:00:00            0             2   \n",
       "\n",
       "      input_value  output_value  is_coinbase  fee inputs  \\\n",
       "1470          0.0      6.618063         True  0.0     []   \n",
       "2667          0.0      7.035754         True  0.0     []   \n",
       "4380          0.0      6.957694         True  0.0     []   \n",
       "6156          0.0      7.105134         True  0.0     []   \n",
       "8135          0.0      6.545583         True  0.0     []   \n",
       "\n",
       "                                                outputs  \n",
       "1470  [{'index': 0, 'script_asm': 'OP_DUP OP_HASH160...  \n",
       "2667  [{'index': 0, 'script_asm': 'OP_DUP OP_HASH160...  \n",
       "4380  [{'index': 0, 'script_asm': 'OP_DUP OP_HASH160...  \n",
       "6156  [{'index': 0, 'script_asm': 'OP_DUP OP_HASH160...  \n",
       "8135  [{'index': 0, 'script_asm': '0 3156afc42499150...  "
      ]
     },
     "execution_count": 35,
     "metadata": {},
     "output_type": "execute_result"
    }
   ],
   "source": [
    "cool.head()"
   ]
  },
  {
   "cell_type": "code",
   "execution_count": 43,
   "metadata": {},
   "outputs": [
    {
     "data": {
      "text/plain": [
       "\"[{'index': 0, 'script_asm': 'OP_DUP OP_HASH160 2220867b1e79c403fafe339a809a65ed01cb6979 OP_EQUALVERIFY OP_CHECKSIG', 'script_hex': '76a9142220867b1e79c403fafe339a809a65ed01cb697988ac', 'required_signatures': 1.0, 'type': 'pubkeyhash', 'addresses': array(['147SwRQdpCfj5p8PnfsXV2SsVVpVcz3aPq'], dtype=object), 'value': Decimal('703575385.000000000')}\\n {'index': 1, 'script_asm': 'OP_RETURN aa21a9eda39cfe9778b2b6c4075e5fd295fbce1d1a5094f9216dba69caf469d9ef1d12b3', 'script_hex': '6a24aa21a9eda39cfe9778b2b6c4075e5fd295fbce1d1a5094f9216dba69caf469d9ef1d12b3', 'required_signatures': None, 'type': 'nonstandard', 'addresses': array(['nonstandardc68e1765581a7dfcc5899829c5234e80ce91e322'],\\n      dtype=object), 'value': Decimal('0E-9')}]\""
      ]
     },
     "execution_count": 43,
     "metadata": {},
     "output_type": "execute_result"
    }
   ],
   "source": [
    "cool['outputs'].loc[2667]"
   ]
  },
  {
   "cell_type": "markdown",
   "metadata": {},
   "source": [
    "### Columns Description:\n",
    "\n",
    "- |__Unnamed: 0__| -> Redundant column of the index. _'int64'_\n",
    "- |__Hash__| -> The hash of this transaction. _'object'_\n",
    "- |__Size__| -> The size of block data in bytes. _'int64'_\n",
    "- |__Virtual size__| -> The virtual transaction size (differs from size for witness transactions). _'int64'_\n",
    "- |__Version__| -> Protocol version specified in block which contained this transaction. _'object'_\n",
    "- |__Lock time__| -> Earliest time that miners can include the transaction in their hashing of the Merkle root to attach it in the latest. _'object'_\n",
    "- |__Block hash__| -> Hash of the block which contains this transaction. _'int64'_\n",
    "- |__Block number__| -> Number of the block which contains this transaction. _'int64'_\n",
    "- |__block timestamp__| -> Timestamp of the block which contains this transaction. _'object'_\n",
    "- |__Block timestamp month__| -> Month of the block which contains this transaction. _'int64'_\n",
    "- |__Input count__| -> The number of inputs in the transaction. _'int64'_\n",
    "- |__Output count__| -> The number of outputs in the transaction. _'int64'_\n",
    "- |__Input value__| -> Total value of inputs in the transaction in satoshis. _'int64'_\n",
    "- |__Output value__| -> Total value of outputs in the transaction in satoshis. _'int64'_\n",
    "- |__Is coinbase__| -> Max amount of sets that can be played in a match. _'bool'_\n",
    "- |__Fee__| -> The fee paid by this transaction in sats. _'float64'_\n",
    "- |__Inputs__| -> Transaction inputs. _'object'_\n",
    "- |__Outputs__| -> Transaction outputs. _'object'_"
   ]
  },
  {
   "cell_type": "markdown",
   "metadata": {},
   "source": [
    "<br>"
   ]
  },
  {
   "cell_type": "markdown",
   "metadata": {},
   "source": [
    "#### Checking all columns and changing the type in case it's needed"
   ]
  },
  {
   "cell_type": "code",
   "execution_count": 12,
   "metadata": {},
   "outputs": [
    {
     "data": {
      "text/plain": [
       "0               0\n",
       "1410         1410\n",
       "1409         1409\n",
       "1408         1408\n",
       "1407         1407\n",
       "            ...  \n",
       "1481402    580224\n",
       "1481401    580223\n",
       "1481400    580222\n",
       "1481413    580235\n",
       "1482748    581570\n",
       "Name: Unnamed: 0, Length: 1482749, dtype: int64"
      ]
     },
     "execution_count": 12,
     "metadata": {},
     "output_type": "execute_result"
    }
   ],
   "source": [
    "# index column and Unnamed\n",
    "\n",
    "df.index\n",
    "df['Unnamed: 0']"
   ]
  },
  {
   "cell_type": "code",
   "execution_count": 11,
   "metadata": {},
   "outputs": [],
   "source": [
    "# dropping redundant columns\n",
    "\n",
    "df.drop(columns= ['Unnamed: 0'], inplace= True)"
   ]
  },
  {
   "cell_type": "markdown",
   "metadata": {},
   "source": [
    "<br>"
   ]
  },
  {
   "cell_type": "code",
   "execution_count": 269,
   "metadata": {},
   "outputs": [
    {
     "data": {
      "text/plain": [
       "223      140354\n",
       "225      122358\n",
       "224      100074\n",
       "226       98294\n",
       "247       60813\n",
       "          ...  \n",
       "82921         1\n",
       "13834         1\n",
       "9736          1\n",
       "28161         1\n",
       "57814         1\n",
       "Name: size, Length: 15258, dtype: int64"
      ]
     },
     "execution_count": 269,
     "metadata": {},
     "output_type": "execute_result"
    }
   ],
   "source": [
    "# size column and vsize column should be very similar\n",
    "\n",
    "df['size'].value_counts()"
   ]
  },
  {
   "cell_type": "code",
   "execution_count": 14,
   "metadata": {},
   "outputs": [
    {
     "data": {
      "text/plain": [
       "14827.49"
      ]
     },
     "execution_count": 14,
     "metadata": {},
     "output_type": "execute_result"
    }
   ],
   "source": [
    "len(df)/100\n"
   ]
  },
  {
   "cell_type": "code",
   "execution_count": 15,
   "metadata": {},
   "outputs": [
    {
     "data": {
      "text/plain": [
       "224477"
      ]
     },
     "execution_count": 15,
     "metadata": {},
     "output_type": "execute_result"
    }
   ],
   "source": [
    "df['size'].min()\n",
    "df['size'].max()"
   ]
  },
  {
   "cell_type": "raw",
   "metadata": {},
   "source": [
    "# splitting \n",
    "\n",
    "df_rep = df.groupby(\"size\").filter(lambda x: len(x) > len(df)/100)"
   ]
  },
  {
   "cell_type": "code",
   "execution_count": 23,
   "metadata": {},
   "outputs": [
    {
     "data": {
      "text/plain": [
       "<matplotlib.axes._subplots.AxesSubplot at 0x7fe3029e77d0>"
      ]
     },
     "execution_count": 23,
     "metadata": {},
     "output_type": "execute_result"
    },
    {
     "data": {
      "image/png": "[encoded data removed]",
      "text/plain": [
       "<Figure size 432x288 with 1 Axes>"
      ]
     },
     "metadata": {
      "needs_background": "light"
     },
     "output_type": "display_data"
    }
   ],
   "source": [
    "sns.countplot(x= 'size', data= df_rep)"
   ]
  },
  {
   "cell_type": "raw",
   "metadata": {},
   "source": [
    "df[df['size'] < 190]['block_number'].value_counts()"
   ]
  },
  {
   "cell_type": "code",
   "execution_count": 24,
   "metadata": {},
   "outputs": [
    {
     "data": {
      "text/plain": [
       "15"
      ]
     },
     "execution_count": 24,
     "metadata": {},
     "output_type": "execute_result"
    },
    {
     "data": {
      "text/html": [
       "<div>\n",
       "<style scoped>\n",
       "    .dataframe tbody tr th:only-of-type {\n",
       "        vertical-align: middle;\n",
       "    }\n",
       "\n",
       "    .dataframe tbody tr th {\n",
       "        vertical-align: top;\n",
       "    }\n",
       "\n",
       "    .dataframe thead th {\n",
       "        text-align: right;\n",
       "    }\n",
       "</style>\n",
       "<table border=\"1\" class=\"dataframe\">\n",
       "  <thead>\n",
       "    <tr style=\"text-align: right;\">\n",
       "      <th></th>\n",
       "      <th>hash</th>\n",
       "      <th>size</th>\n",
       "      <th>virtual_size</th>\n",
       "      <th>version</th>\n",
       "      <th>lock_time</th>\n",
       "      <th>block_hash</th>\n",
       "      <th>block_number</th>\n",
       "      <th>block_timestamp</th>\n",
       "      <th>block_timestamp_month</th>\n",
       "      <th>input_count</th>\n",
       "      <th>output_count</th>\n",
       "      <th>input_value</th>\n",
       "      <th>output_value</th>\n",
       "      <th>is_coinbase</th>\n",
       "      <th>fee</th>\n",
       "      <th>inputs</th>\n",
       "      <th>outputs</th>\n",
       "    </tr>\n",
       "  </thead>\n",
       "  <tbody>\n",
       "    <tr>\n",
       "      <td>27325</td>\n",
       "      <td>9150d31a5f62726af4a37ba1ee5650e861c0d19b704e56...</td>\n",
       "      <td>205944</td>\n",
       "      <td>91388</td>\n",
       "      <td>1</td>\n",
       "      <td>0</td>\n",
       "      <td>0000000000000000000015d9340dedc6c48e6be4794739...</td>\n",
       "      <td>678846</td>\n",
       "      <td>2021-04-12 02:52:40+00:00</td>\n",
       "      <td>2021-04-01</td>\n",
       "      <td>699</td>\n",
       "      <td>2</td>\n",
       "      <td>2.014212e+08</td>\n",
       "      <td>2.000464e+08</td>\n",
       "      <td>False</td>\n",
       "      <td>1374720.0</td>\n",
       "      <td>[{'index': 0, 'spent_transaction_hash': '445e6...</td>\n",
       "      <td>[{'index': 0, 'script_asm': 'OP_DUP OP_HASH160...</td>\n",
       "    </tr>\n",
       "    <tr>\n",
       "      <td>307730</td>\n",
       "      <td>23f125b1359ac4e3213a320e7ce1124042d331654ac5bc...</td>\n",
       "      <td>224431</td>\n",
       "      <td>99574</td>\n",
       "      <td>1</td>\n",
       "      <td>0</td>\n",
       "      <td>000000000000000000034c0c406bc63ab4c6f0530cf6ae...</td>\n",
       "      <td>678980</td>\n",
       "      <td>2021-04-13 01:17:33+00:00</td>\n",
       "      <td>2021-04-01</td>\n",
       "      <td>762</td>\n",
       "      <td>1</td>\n",
       "      <td>7.459861e+08</td>\n",
       "      <td>7.419902e+08</td>\n",
       "      <td>False</td>\n",
       "      <td>3995920.0</td>\n",
       "      <td>[{'index': 0, 'spent_transaction_hash': '267bb...</td>\n",
       "      <td>[{'index': 0, 'script_asm': '0 baead3fe189cd53...</td>\n",
       "    </tr>\n",
       "    <tr>\n",
       "      <td>306684</td>\n",
       "      <td>1e6a981fd2f7275d6232a218156f44ecf27b0f84d3dbff...</td>\n",
       "      <td>224477</td>\n",
       "      <td>99586</td>\n",
       "      <td>1</td>\n",
       "      <td>0</td>\n",
       "      <td>000000000000000000034c0c406bc63ab4c6f0530cf6ae...</td>\n",
       "      <td>678980</td>\n",
       "      <td>2021-04-13 01:17:33+00:00</td>\n",
       "      <td>2021-04-01</td>\n",
       "      <td>762</td>\n",
       "      <td>1</td>\n",
       "      <td>6.731933e+08</td>\n",
       "      <td>6.691974e+08</td>\n",
       "      <td>False</td>\n",
       "      <td>3995920.0</td>\n",
       "      <td>[{'index': 0, 'spent_transaction_hash': 'cf9d6...</td>\n",
       "      <td>[{'index': 0, 'script_asm': '0 8854753243fd687...</td>\n",
       "    </tr>\n",
       "    <tr>\n",
       "      <td>311232</td>\n",
       "      <td>ba300a8622e209e34ce1e85a30daaa3a04ec5325c506f6...</td>\n",
       "      <td>224448</td>\n",
       "      <td>99579</td>\n",
       "      <td>1</td>\n",
       "      <td>0</td>\n",
       "      <td>000000000000000000002ba30870d995d576b2b59fa153...</td>\n",
       "      <td>678982</td>\n",
       "      <td>2021-04-13 01:28:59+00:00</td>\n",
       "      <td>2021-04-01</td>\n",
       "      <td>762</td>\n",
       "      <td>1</td>\n",
       "      <td>1.233682e+09</td>\n",
       "      <td>1.229786e+09</td>\n",
       "      <td>False</td>\n",
       "      <td>3896022.0</td>\n",
       "      <td>[{'index': 0, 'spent_transaction_hash': '57528...</td>\n",
       "      <td>[{'index': 0, 'script_asm': '0 bcd72162397bd11...</td>\n",
       "    </tr>\n",
       "    <tr>\n",
       "      <td>569747</td>\n",
       "      <td>a601805ab2cdd45e1ee177325cc2bac5147d579d986e34...</td>\n",
       "      <td>224438</td>\n",
       "      <td>99576</td>\n",
       "      <td>1</td>\n",
       "      <td>0</td>\n",
       "      <td>0000000000000000000b70368126f54bcb71cc89d986a7...</td>\n",
       "      <td>679099</td>\n",
       "      <td>2021-04-13 21:41:23+00:00</td>\n",
       "      <td>2021-04-01</td>\n",
       "      <td>762</td>\n",
       "      <td>1</td>\n",
       "      <td>1.405084e+09</td>\n",
       "      <td>1.396693e+09</td>\n",
       "      <td>False</td>\n",
       "      <td>8391432.0</td>\n",
       "      <td>[{'index': 0, 'spent_transaction_hash': 'fb5e4...</td>\n",
       "      <td>[{'index': 0, 'script_asm': '0 931185c71051bd9...</td>\n",
       "    </tr>\n",
       "  </tbody>\n",
       "</table>\n",
       "</div>"
      ],
      "text/plain": [
       "                                                     hash    size  \\\n",
       "27325   9150d31a5f62726af4a37ba1ee5650e861c0d19b704e56...  205944   \n",
       "307730  23f125b1359ac4e3213a320e7ce1124042d331654ac5bc...  224431   \n",
       "306684  1e6a981fd2f7275d6232a218156f44ecf27b0f84d3dbff...  224477   \n",
       "311232  ba300a8622e209e34ce1e85a30daaa3a04ec5325c506f6...  224448   \n",
       "569747  a601805ab2cdd45e1ee177325cc2bac5147d579d986e34...  224438   \n",
       "\n",
       "        virtual_size  version  lock_time  \\\n",
       "27325          91388        1          0   \n",
       "307730         99574        1          0   \n",
       "306684         99586        1          0   \n",
       "311232         99579        1          0   \n",
       "569747         99576        1          0   \n",
       "\n",
       "                                               block_hash  block_number  \\\n",
       "27325   0000000000000000000015d9340dedc6c48e6be4794739...        678846   \n",
       "307730  000000000000000000034c0c406bc63ab4c6f0530cf6ae...        678980   \n",
       "306684  000000000000000000034c0c406bc63ab4c6f0530cf6ae...        678980   \n",
       "311232  000000000000000000002ba30870d995d576b2b59fa153...        678982   \n",
       "569747  0000000000000000000b70368126f54bcb71cc89d986a7...        679099   \n",
       "\n",
       "                  block_timestamp block_timestamp_month  input_count  \\\n",
       "27325   2021-04-12 02:52:40+00:00            2021-04-01          699   \n",
       "307730  2021-04-13 01:17:33+00:00            2021-04-01          762   \n",
       "306684  2021-04-13 01:17:33+00:00            2021-04-01          762   \n",
       "311232  2021-04-13 01:28:59+00:00            2021-04-01          762   \n",
       "569747  2021-04-13 21:41:23+00:00            2021-04-01          762   \n",
       "\n",
       "        output_count   input_value  output_value  is_coinbase        fee  \\\n",
       "27325              2  2.014212e+08  2.000464e+08        False  1374720.0   \n",
       "307730             1  7.459861e+08  7.419902e+08        False  3995920.0   \n",
       "306684             1  6.731933e+08  6.691974e+08        False  3995920.0   \n",
       "311232             1  1.233682e+09  1.229786e+09        False  3896022.0   \n",
       "569747             1  1.405084e+09  1.396693e+09        False  8391432.0   \n",
       "\n",
       "                                                   inputs  \\\n",
       "27325   [{'index': 0, 'spent_transaction_hash': '445e6...   \n",
       "307730  [{'index': 0, 'spent_transaction_hash': '267bb...   \n",
       "306684  [{'index': 0, 'spent_transaction_hash': 'cf9d6...   \n",
       "311232  [{'index': 0, 'spent_transaction_hash': '57528...   \n",
       "569747  [{'index': 0, 'spent_transaction_hash': 'fb5e4...   \n",
       "\n",
       "                                                  outputs  \n",
       "27325   [{'index': 0, 'script_asm': 'OP_DUP OP_HASH160...  \n",
       "307730  [{'index': 0, 'script_asm': '0 baead3fe189cd53...  \n",
       "306684  [{'index': 0, 'script_asm': '0 8854753243fd687...  \n",
       "311232  [{'index': 0, 'script_asm': '0 bcd72162397bd11...  \n",
       "569747  [{'index': 0, 'script_asm': '0 931185c71051bd9...  "
      ]
     },
     "execution_count": 24,
     "metadata": {},
     "output_type": "execute_result"
    }
   ],
   "source": [
    "# tx with very large size prolly exchanges moving large amount of funds from one cold wallet to the another.\n",
    "\n",
    "len(df[df['size'] > 200000])\n",
    "df[df['size'] > 200000].head()"
   ]
  },
  {
   "cell_type": "markdown",
   "metadata": {},
   "source": [
    "<br>"
   ]
  },
  {
   "cell_type": "code",
   "execution_count": 25,
   "metadata": {},
   "outputs": [
    {
     "data": {
      "text/plain": [
       "1    927764\n",
       "2    554985\n",
       "Name: version, dtype: int64"
      ]
     },
     "execution_count": 25,
     "metadata": {},
     "output_type": "execute_result"
    }
   ],
   "source": [
    "# version - most nodes are using the version 1\n",
    "\n",
    "df['version'].value_counts()"
   ]
  },
  {
   "cell_type": "markdown",
   "metadata": {},
   "source": [
    "<br>"
   ]
  },
  {
   "cell_type": "code",
   "execution_count": 26,
   "metadata": {},
   "outputs": [
    {
     "data": {
      "text/plain": [
       "0            1168276\n",
       "679227          2940\n",
       "679298          2847\n",
       "679186          2525\n",
       "679050          2382\n",
       "              ...   \n",
       "550655917          1\n",
       "543152659          1\n",
       "544547660          1\n",
       "676587             1\n",
       "538970111          1\n",
       "Name: lock_time, Length: 2113, dtype: int64"
      ]
     },
     "execution_count": 26,
     "metadata": {},
     "output_type": "execute_result"
    }
   ],
   "source": [
    "# locktime\n",
    "\n",
    "df['lock_time'].value_counts()"
   ]
  },
  {
   "cell_type": "code",
   "execution_count": 27,
   "metadata": {},
   "outputs": [
    {
     "data": {
      "text/plain": [
       "736416.2382210341"
      ]
     },
     "execution_count": 27,
     "metadata": {},
     "output_type": "execute_result"
    },
    {
     "data": {
      "text/plain": [
       "4236579363"
      ]
     },
     "execution_count": 27,
     "metadata": {},
     "output_type": "execute_result"
    }
   ],
   "source": [
    "df['lock_time'].mean()\n",
    "df['lock_time'].max()"
   ]
  },
  {
   "cell_type": "code",
   "execution_count": 28,
   "metadata": {},
   "outputs": [
    {
     "data": {
      "text/html": [
       "<div>\n",
       "<style scoped>\n",
       "    .dataframe tbody tr th:only-of-type {\n",
       "        vertical-align: middle;\n",
       "    }\n",
       "\n",
       "    .dataframe tbody tr th {\n",
       "        vertical-align: top;\n",
       "    }\n",
       "\n",
       "    .dataframe thead th {\n",
       "        text-align: right;\n",
       "    }\n",
       "</style>\n",
       "<table border=\"1\" class=\"dataframe\">\n",
       "  <thead>\n",
       "    <tr style=\"text-align: right;\">\n",
       "      <th></th>\n",
       "      <th>hash</th>\n",
       "      <th>size</th>\n",
       "      <th>virtual_size</th>\n",
       "      <th>version</th>\n",
       "      <th>lock_time</th>\n",
       "      <th>block_hash</th>\n",
       "      <th>block_number</th>\n",
       "      <th>block_timestamp</th>\n",
       "      <th>block_timestamp_month</th>\n",
       "      <th>input_count</th>\n",
       "      <th>output_count</th>\n",
       "      <th>input_value</th>\n",
       "      <th>output_value</th>\n",
       "      <th>is_coinbase</th>\n",
       "      <th>fee</th>\n",
       "      <th>inputs</th>\n",
       "      <th>outputs</th>\n",
       "    </tr>\n",
       "  </thead>\n",
       "  <tbody>\n",
       "    <tr>\n",
       "      <td>203</td>\n",
       "      <td>e6e4034506ef184cc34655c23c019c13475a46172577c6...</td>\n",
       "      <td>331</td>\n",
       "      <td>304</td>\n",
       "      <td>1</td>\n",
       "      <td>12388320</td>\n",
       "      <td>0000000000000000000a74535081f831163fe6ebbcbb5c...</td>\n",
       "      <td>678829</td>\n",
       "      <td>2021-04-11 23:58:57+00:00</td>\n",
       "      <td>2021-04-01</td>\n",
       "      <td>0</td>\n",
       "      <td>4</td>\n",
       "      <td>NaN</td>\n",
       "      <td>661806252.0</td>\n",
       "      <td>True</td>\n",
       "      <td>0.0</td>\n",
       "      <td>[]</td>\n",
       "      <td>[{'index': 0, 'script_asm': 'OP_DUP OP_HASH160...</td>\n",
       "    </tr>\n",
       "    <tr>\n",
       "      <td>569</td>\n",
       "      <td>f72d0195c82624dac07fba69b701ebd2b09b8384ede3f0...</td>\n",
       "      <td>346</td>\n",
       "      <td>181</td>\n",
       "      <td>2</td>\n",
       "      <td>548867413</td>\n",
       "      <td>0000000000000000000a74535081f831163fe6ebbcbb5c...</td>\n",
       "      <td>678829</td>\n",
       "      <td>2021-04-11 23:58:57+00:00</td>\n",
       "      <td>2021-04-01</td>\n",
       "      <td>1</td>\n",
       "      <td>2</td>\n",
       "      <td>16777215.0</td>\n",
       "      <td>16762223.0</td>\n",
       "      <td>False</td>\n",
       "      <td>14992.0</td>\n",
       "      <td>[{'index': 0, 'spent_transaction_hash': '1d7bc...</td>\n",
       "      <td>[{'index': 0, 'script_asm': '0 61a287af11ec6a2...</td>\n",
       "    </tr>\n",
       "    <tr>\n",
       "      <td>2278</td>\n",
       "      <td>9f626d5d165eba86cd575c6c5d23998a37048f41cb7631...</td>\n",
       "      <td>302</td>\n",
       "      <td>137</td>\n",
       "      <td>2</td>\n",
       "      <td>546626799</td>\n",
       "      <td>00000000000000000004d147c3f938ea7f8a2120f5e2b0...</td>\n",
       "      <td>678830</td>\n",
       "      <td>2021-04-12 00:11:12+00:00</td>\n",
       "      <td>2021-04-01</td>\n",
       "      <td>1</td>\n",
       "      <td>1</td>\n",
       "      <td>40627.0</td>\n",
       "      <td>29392.0</td>\n",
       "      <td>False</td>\n",
       "      <td>11235.0</td>\n",
       "      <td>[{'index': 0, 'spent_transaction_hash': '6d4bb...</td>\n",
       "      <td>[{'index': 0, 'script_asm': '0 11750981369bcde...</td>\n",
       "    </tr>\n",
       "    <tr>\n",
       "      <td>2551</td>\n",
       "      <td>2708e16d593ac9dbf74eb44d904144e984798464fc661b...</td>\n",
       "      <td>2401</td>\n",
       "      <td>2401</td>\n",
       "      <td>1</td>\n",
       "      <td>1618186042</td>\n",
       "      <td>00000000000000000004d147c3f938ea7f8a2120f5e2b0...</td>\n",
       "      <td>678830</td>\n",
       "      <td>2021-04-12 00:11:12+00:00</td>\n",
       "      <td>2021-04-01</td>\n",
       "      <td>16</td>\n",
       "      <td>1</td>\n",
       "      <td>113845238.0</td>\n",
       "      <td>113624393.0</td>\n",
       "      <td>False</td>\n",
       "      <td>220845.0</td>\n",
       "      <td>[{'index': 0, 'spent_transaction_hash': '6795b...</td>\n",
       "      <td>[{'index': 0, 'script_asm': 'OP_HASH160 0c7a02...</td>\n",
       "    </tr>\n",
       "    <tr>\n",
       "      <td>6210</td>\n",
       "      <td>07ba4c6de359620755d703a22e0984d735c628b2dd1a34...</td>\n",
       "      <td>314</td>\n",
       "      <td>149</td>\n",
       "      <td>2</td>\n",
       "      <td>551212354</td>\n",
       "      <td>000000000000000000051b16891443cbafc8fcb517bfb1...</td>\n",
       "      <td>678832</td>\n",
       "      <td>2021-04-12 00:59:20+00:00</td>\n",
       "      <td>2021-04-01</td>\n",
       "      <td>1</td>\n",
       "      <td>1</td>\n",
       "      <td>587245.0</td>\n",
       "      <td>567230.0</td>\n",
       "      <td>False</td>\n",
       "      <td>20015.0</td>\n",
       "      <td>[{'index': 0, 'spent_transaction_hash': 'a5c44...</td>\n",
       "      <td>[{'index': 0, 'script_asm': '0 2369e0ccb9947e2...</td>\n",
       "    </tr>\n",
       "  </tbody>\n",
       "</table>\n",
       "</div>"
      ],
      "text/plain": [
       "                                                   hash  size  virtual_size  \\\n",
       "203   e6e4034506ef184cc34655c23c019c13475a46172577c6...   331           304   \n",
       "569   f72d0195c82624dac07fba69b701ebd2b09b8384ede3f0...   346           181   \n",
       "2278  9f626d5d165eba86cd575c6c5d23998a37048f41cb7631...   302           137   \n",
       "2551  2708e16d593ac9dbf74eb44d904144e984798464fc661b...  2401          2401   \n",
       "6210  07ba4c6de359620755d703a22e0984d735c628b2dd1a34...   314           149   \n",
       "\n",
       "      version   lock_time                                         block_hash  \\\n",
       "203         1    12388320  0000000000000000000a74535081f831163fe6ebbcbb5c...   \n",
       "569         2   548867413  0000000000000000000a74535081f831163fe6ebbcbb5c...   \n",
       "2278        2   546626799  00000000000000000004d147c3f938ea7f8a2120f5e2b0...   \n",
       "2551        1  1618186042  00000000000000000004d147c3f938ea7f8a2120f5e2b0...   \n",
       "6210        2   551212354  000000000000000000051b16891443cbafc8fcb517bfb1...   \n",
       "\n",
       "      block_number            block_timestamp block_timestamp_month  \\\n",
       "203         678829  2021-04-11 23:58:57+00:00            2021-04-01   \n",
       "569         678829  2021-04-11 23:58:57+00:00            2021-04-01   \n",
       "2278        678830  2021-04-12 00:11:12+00:00            2021-04-01   \n",
       "2551        678830  2021-04-12 00:11:12+00:00            2021-04-01   \n",
       "6210        678832  2021-04-12 00:59:20+00:00            2021-04-01   \n",
       "\n",
       "      input_count  output_count  input_value  output_value  is_coinbase  \\\n",
       "203             0             4          NaN   661806252.0         True   \n",
       "569             1             2   16777215.0    16762223.0        False   \n",
       "2278            1             1      40627.0       29392.0        False   \n",
       "2551           16             1  113845238.0   113624393.0        False   \n",
       "6210            1             1     587245.0      567230.0        False   \n",
       "\n",
       "           fee                                             inputs  \\\n",
       "203        0.0                                                 []   \n",
       "569    14992.0  [{'index': 0, 'spent_transaction_hash': '1d7bc...   \n",
       "2278   11235.0  [{'index': 0, 'spent_transaction_hash': '6d4bb...   \n",
       "2551  220845.0  [{'index': 0, 'spent_transaction_hash': '6795b...   \n",
       "6210   20015.0  [{'index': 0, 'spent_transaction_hash': 'a5c44...   \n",
       "\n",
       "                                                outputs  \n",
       "203   [{'index': 0, 'script_asm': 'OP_DUP OP_HASH160...  \n",
       "569   [{'index': 0, 'script_asm': '0 61a287af11ec6a2...  \n",
       "2278  [{'index': 0, 'script_asm': '0 11750981369bcde...  \n",
       "2551  [{'index': 0, 'script_asm': 'OP_HASH160 0c7a02...  \n",
       "6210  [{'index': 0, 'script_asm': '0 2369e0ccb9947e2...  "
      ]
     },
     "execution_count": 28,
     "metadata": {},
     "output_type": "execute_result"
    }
   ],
   "source": [
    "df[df['lock_time'] > 679298].head()"
   ]
  },
  {
   "cell_type": "markdown",
   "metadata": {},
   "source": [
    "<br>"
   ]
  },
  {
   "cell_type": "code",
   "execution_count": 29,
   "metadata": {},
   "outputs": [
    {
     "data": {
      "text/plain": [
       "0       0000000000000000000a74535081f831163fe6ebbcbb5c...\n",
       "1410    0000000000000000000a74535081f831163fe6ebbcbb5c...\n",
       "1409    0000000000000000000a74535081f831163fe6ebbcbb5c...\n",
       "1408    0000000000000000000a74535081f831163fe6ebbcbb5c...\n",
       "1407    0000000000000000000a74535081f831163fe6ebbcbb5c...\n",
       "Name: block_hash, dtype: object"
      ]
     },
     "execution_count": 29,
     "metadata": {},
     "output_type": "execute_result"
    }
   ],
   "source": [
    "# blockhash --- nothing here i guess\n",
    "\n",
    "df.block_hash.head()"
   ]
  },
  {
   "cell_type": "markdown",
   "metadata": {},
   "source": [
    "<br>"
   ]
  },
  {
   "cell_type": "code",
   "execution_count": 30,
   "metadata": {},
   "outputs": [
    {
     "data": {
      "text/plain": [
       "678829"
      ]
     },
     "execution_count": 30,
     "metadata": {},
     "output_type": "execute_result"
    },
    {
     "data": {
      "text/plain": [
       "679525"
      ]
     },
     "execution_count": 30,
     "metadata": {},
     "output_type": "execute_result"
    },
    {
     "data": {
      "text/plain": [
       "696"
      ]
     },
     "execution_count": 30,
     "metadata": {},
     "output_type": "execute_result"
    }
   ],
   "source": [
    "# there are approx 7k tx per block... and 1 block is mined approx every 10 min\n",
    "\n",
    "df['block_number'].min()\n",
    "df['block_number'].max()\n",
    "(df['block_number'].max() - df['block_number'].min())"
   ]
  },
  {
   "cell_type": "code",
   "execution_count": null,
   "metadata": {},
   "outputs": [],
   "source": [
    "df[df.duplicated() == 1]"
   ]
  },
  {
   "cell_type": "code",
   "execution_count": 17,
   "metadata": {},
   "outputs": [],
   "source": [
    "# block 679250 is repeated\n",
    "\n",
    "rows_rep= df[df.duplicated(subset= 'hash')].index\n",
    "df.drop(rows_rep, inplace= True, axis= 0)"
   ]
  },
  {
   "cell_type": "code",
   "execution_count": 34,
   "metadata": {},
   "outputs": [
    {
     "data": {
      "text/plain": [
       "<seaborn.axisgrid.FacetGrid at 0x7fe2558fd790>"
      ]
     },
     "execution_count": 34,
     "metadata": {},
     "output_type": "execute_result"
    },
    {
     "data": {
      "image/png": "[encoded data removed]",
      "text/plain": [
       "<Figure size 360x360 with 1 Axes>"
      ]
     },
     "metadata": {
      "needs_background": "light"
     },
     "output_type": "display_data"
    }
   ],
   "source": [
    "sns.displot(data=df, x='block_number', kde= True)"
   ]
  },
  {
   "cell_type": "markdown",
   "metadata": {},
   "source": [
    "<br>"
   ]
  },
  {
   "cell_type": "code",
   "execution_count": 19,
   "metadata": {},
   "outputs": [],
   "source": [
    "# converting to proper type block_timestamp\n",
    "\n",
    "df['block_timestamp']= pd.to_datetime(df.block_timestamp).dt.tz_localize(None)"
   ]
  },
  {
   "cell_type": "code",
   "execution_count": 36,
   "metadata": {},
   "outputs": [
    {
     "data": {
      "text/plain": [
       "Timestamp('2021-04-11 23:58:57')"
      ]
     },
     "execution_count": 36,
     "metadata": {},
     "output_type": "execute_result"
    },
    {
     "data": {
      "text/plain": [
       "Timestamp('2021-04-16 23:57:57')"
      ]
     },
     "execution_count": 36,
     "metadata": {},
     "output_type": "execute_result"
    }
   ],
   "source": [
    "df['block_timestamp'].min()\n",
    "df['block_timestamp'].max()"
   ]
  },
  {
   "cell_type": "raw",
   "metadata": {},
   "source": [
    "sns.lineplot(x= 'block_timestamp', y= df['block_number'].value_counts(), data= df)"
   ]
  },
  {
   "cell_type": "markdown",
   "metadata": {},
   "source": [
    "<br>"
   ]
  },
  {
   "cell_type": "code",
   "execution_count": 20,
   "metadata": {},
   "outputs": [],
   "source": [
    "# check this column more in depth\n",
    "\n",
    "df['block_timestamp_month'] = pd.to_datetime(df['block_timestamp_month'])"
   ]
  },
  {
   "cell_type": "code",
   "execution_count": 40,
   "metadata": {},
   "outputs": [
    {
     "data": {
      "text/plain": [
       "0      2021-04-01\n",
       "1410   2021-04-01\n",
       "1409   2021-04-01\n",
       "1408   2021-04-01\n",
       "1407   2021-04-01\n",
       "Name: block_timestamp_month, dtype: datetime64[ns]"
      ]
     },
     "execution_count": 40,
     "metadata": {},
     "output_type": "execute_result"
    }
   ],
   "source": [
    "df['block_timestamp_month'].head()"
   ]
  },
  {
   "cell_type": "markdown",
   "metadata": {},
   "source": [
    "<br>"
   ]
  },
  {
   "cell_type": "code",
   "execution_count": 41,
   "metadata": {},
   "outputs": [
    {
     "data": {
      "text/plain": [
       "709"
      ]
     },
     "execution_count": 41,
     "metadata": {},
     "output_type": "execute_result"
    }
   ],
   "source": [
    "# big majority of tx have 2 inputs\n",
    "\n",
    "len(df['input_count'].value_counts())"
   ]
  },
  {
   "cell_type": "code",
   "execution_count": 42,
   "metadata": {},
   "outputs": [
    {
     "name": "stdout",
     "output_type": "stream",
     "text": [
      "1406842 / 1482749\n"
     ]
    }
   ],
   "source": [
    "print(len(df[df['input_count'] < 5]),'/',len(df))"
   ]
  },
  {
   "cell_type": "code",
   "execution_count": 43,
   "metadata": {},
   "outputs": [
    {
     "data": {
      "text/plain": [
       "Counter({6: 59729,\n",
       "         1: 1127980,\n",
       "         2: 194085,\n",
       "         3: 57328,\n",
       "         5: 16178,\n",
       "         4: 26751,\n",
       "         0: 698})"
      ]
     },
     "execution_count": 43,
     "metadata": {},
     "output_type": "execute_result"
    }
   ],
   "source": [
    "a= [i  if i < 6 else 6 for i in df['input_count']]\n",
    "Counter(a)"
   ]
  },
  {
   "cell_type": "code",
   "execution_count": 44,
   "metadata": {},
   "outputs": [
    {
     "data": {
      "text/plain": [
       "1    0.760736\n",
       "2    0.130895\n",
       "3    0.038663\n",
       "4    0.018041\n",
       "5    0.010911\n",
       "Name: input_count, dtype: float64"
      ]
     },
     "execution_count": 44,
     "metadata": {},
     "output_type": "execute_result"
    }
   ],
   "source": [
    "df['input_count'].value_counts(normalize= True)[:5]"
   ]
  },
  {
   "cell_type": "markdown",
   "metadata": {},
   "source": [
    "<br>"
   ]
  },
  {
   "cell_type": "code",
   "execution_count": 45,
   "metadata": {},
   "outputs": [
    {
     "data": {
      "text/plain": [
       "2       945235\n",
       "1       374938\n",
       "3        56781\n",
       "4        19747\n",
       "5        11727\n",
       "         ...  \n",
       "419          1\n",
       "421          1\n",
       "424          1\n",
       "427          1\n",
       "4080         1\n",
       "Name: output_count, Length: 485, dtype: int64"
      ]
     },
     "execution_count": 45,
     "metadata": {},
     "output_type": "execute_result"
    }
   ],
   "source": [
    "# same happens with output... unless the UTXO is spent completely most outputs are 2 cuz of the change address\n",
    "# prolly very big numbers of inputs/outputs come from mixers or exchanges\n",
    "\n",
    "df['output_count'].value_counts()"
   ]
  },
  {
   "cell_type": "markdown",
   "metadata": {},
   "source": [
    "<br>"
   ]
  },
  {
   "cell_type": "code",
   "execution_count": 46,
   "metadata": {},
   "outputs": [
    {
     "data": {
      "text/plain": [
       "count    1.482051e+06\n",
       "mean     6.138457e+08\n",
       "std      1.835178e+10\n",
       "min      5.470000e+02\n",
       "25%      4.494855e+05\n",
       "50%      1.879290e+06\n",
       "75%      1.781420e+07\n",
       "max      1.272682e+12\n",
       "Name: input_value, dtype: float64"
      ]
     },
     "execution_count": 46,
     "metadata": {},
     "output_type": "execute_result"
    }
   ],
   "source": [
    "# amount of money sent in satoshis ! \n",
    "\n",
    "df['input_value'].describe()"
   ]
  },
  {
   "cell_type": "code",
   "execution_count": 21,
   "metadata": {},
   "outputs": [],
   "source": [
    "df['input_value'].fillna(0, inplace= True)"
   ]
  },
  {
   "cell_type": "code",
   "execution_count": 48,
   "metadata": {},
   "outputs": [
    {
     "data": {
      "text/plain": [
       "0.0"
      ]
     },
     "execution_count": 48,
     "metadata": {},
     "output_type": "execute_result"
    },
    {
     "data": {
      "text/plain": [
       "1272681684153.0"
      ]
     },
     "execution_count": 48,
     "metadata": {},
     "output_type": "execute_result"
    }
   ],
   "source": [
    "df['input_value'].min()\n",
    "df['input_value'].max()"
   ]
  },
  {
   "cell_type": "markdown",
   "metadata": {},
   "source": [
    "<br>"
   ]
  },
  {
   "cell_type": "code",
   "execution_count": 49,
   "metadata": {},
   "outputs": [
    {
     "data": {
      "text/plain": [
       "count    1.482749e+06\n",
       "mean     6.138509e+08\n",
       "std      1.834745e+10\n",
       "min      0.000000e+00\n",
       "25%      4.289530e+05\n",
       "50%      1.857018e+06\n",
       "75%      1.785332e+07\n",
       "max      1.272681e+12\n",
       "Name: output_value, dtype: float64"
      ]
     },
     "execution_count": 49,
     "metadata": {},
     "output_type": "execute_result"
    }
   ],
   "source": [
    "# amount of coins received\n",
    "# output_value = input_value - fee\n",
    "\n",
    "df['output_value'].describe()"
   ]
  },
  {
   "cell_type": "markdown",
   "metadata": {},
   "source": [
    "<br>"
   ]
  },
  {
   "cell_type": "code",
   "execution_count": 50,
   "metadata": {},
   "outputs": [
    {
     "data": {
      "text/plain": [
       "False    1482051\n",
       "True         698\n",
       "Name: is_coinbase, dtype: int64"
      ]
     },
     "execution_count": 50,
     "metadata": {},
     "output_type": "execute_result"
    }
   ],
   "source": [
    "# mined tx or not. This happen with every new block or what is the same roughly every 10 mins\n",
    "\n",
    "df['is_coinbase'].value_counts()"
   ]
  },
  {
   "cell_type": "code",
   "execution_count": 51,
   "metadata": {},
   "outputs": [
    {
     "data": {
      "text/plain": [
       "714765807.8481375"
      ]
     },
     "execution_count": 51,
     "metadata": {},
     "output_type": "execute_result"
    },
    {
     "data": {
      "text/plain": [
       "625000000.0"
      ]
     },
     "execution_count": 51,
     "metadata": {},
     "output_type": "execute_result"
    },
    {
     "data": {
      "text/plain": [
       "847158432.0"
      ]
     },
     "execution_count": 51,
     "metadata": {},
     "output_type": "execute_result"
    }
   ],
   "source": [
    "# some miners decide to claim the fee paid by users in that block while other go only for the block reward in order\n",
    "# to mantain the mining process more effectevely and quick\n",
    "\n",
    "df[df['is_coinbase']== 1]['output_value'].mean()\n",
    "df[df['is_coinbase']== 1]['output_value'].min()\n",
    "df[df['is_coinbase']== 1]['output_value'].max()"
   ]
  },
  {
   "cell_type": "markdown",
   "metadata": {},
   "source": [
    "<br>"
   ]
  },
  {
   "cell_type": "code",
   "execution_count": 52,
   "metadata": {},
   "outputs": [
    {
     "data": {
      "text/plain": [
       "0          20752.0\n",
       "1410        1350.0\n",
       "1409        1922.0\n",
       "1408        9294.0\n",
       "1407        7634.0\n",
       "            ...   \n",
       "1481402    42247.0\n",
       "1481401    24708.0\n",
       "1481400    25909.0\n",
       "1481413    21642.0\n",
       "1482748    79856.0\n",
       "Name: fee, Length: 1482749, dtype: float64"
      ]
     },
     "execution_count": 52,
     "metadata": {},
     "output_type": "execute_result"
    }
   ],
   "source": [
    "# fee column\n",
    "\n",
    "df['fee']"
   ]
  },
  {
   "cell_type": "code",
   "execution_count": 53,
   "metadata": {},
   "outputs": [
    {
     "data": {
      "text/plain": [
       "0.0"
      ]
     },
     "execution_count": 53,
     "metadata": {},
     "output_type": "execute_result"
    },
    {
     "data": {
      "text/plain": [
       "21910890.0"
      ]
     },
     "execution_count": 53,
     "metadata": {},
     "output_type": "execute_result"
    }
   ],
   "source": [
    "df['fee'].min()\n",
    "df['fee'].max()"
   ]
  },
  {
   "cell_type": "markdown",
   "metadata": {},
   "source": [
    "<br>"
   ]
  },
  {
   "cell_type": "code",
   "execution_count": 22,
   "metadata": {},
   "outputs": [],
   "source": [
    "# converting columns values from satoshis to bitcoin\n",
    "# satoshi is the minimum unit of bitcoin\n",
    "# 1 bitcoin = 100.000.000 sats\n",
    "\n",
    "\n",
    "df[['input_value', 'output_value', 'fee']]= df[['input_value', 'output_value', 'fee']].apply(lambda x: x/100000000)"
   ]
  },
  {
   "cell_type": "markdown",
   "metadata": {},
   "source": [
    "<br>"
   ]
  },
  {
   "cell_type": "markdown",
   "metadata": {},
   "source": [
    "#### Let's explore the most important columns for our analysis\n",
    "\n",
    "___"
   ]
  },
  {
   "cell_type": "markdown",
   "metadata": {},
   "source": [
    "These two columns contain the most precious information for our analysis. They show the input/output addresses plus how many sats ended up in which address after the user transacted. These will allow us to connect several addresses from input to output and make an infinite loop till there are no more addresses to scan. They are revealing info about where 'stolen' funds ended up. \n",
    "\n",
    "The format of the columns are a type of bigquery json and there's no easy workaround with that so there's a lenghty process of cleaning those columns to obtain the desirable results.\n",
    "\n",
    "### Key and values description:\n",
    "\n",
    "_INPUTS_ :\n",
    "- |__index:__| -> (numeric) Index of the tx. \n",
    "- |__spent_transaction_hash:__| -> (string) identifier of the transaction. \n",
    "- |__spent_output_index:__| -> (string) created internally by the client interacting with the blockchain. \n",
    "- |__script_asm__| -> (string) String representation of the script public key.\n",
    "- |__script_hex__| -> (string) Hex string of the script public key. \n",
    "- |__sequence__| -> (numeric) nSequence is a 4 byte input level feature. The original meaning of nSequence was to allow modification of transactions in the mempool. \n",
    "- |__required_signatures__| -> (numeric) The required signatures (always 1)\n",
    "- |__type__| -> (string) The type of the script public key (e.g. witness_v0_keyhash or witness_v0_scripthash)\n",
    "- |__address__| -> (json array) Basically amount of inputs.\n",
    "- |__value__| -> (numeric) Amount of sats sent/received to that address"
   ]
  },
  {
   "cell_type": "code",
   "execution_count": 54,
   "metadata": {},
   "outputs": [
    {
     "data": {
      "text/plain": [
       "\"[{'index': 0, 'spent_transaction_hash': 'b836bc9e4e2eb34520dded6a97db44b1a8edd86c017b6d6ee40f95c4130e50c2', 'spent_output_index': 63, 'script_asm': '304402202106a1a53e4756bbab1d36df6d06aacae843c049d17c88f200a1dc1a24145ac702201caa3476f1f026d0ec916de8699e3ae30b2b4c119f85a576bab530ac072ebd30[ALL] 028e530a084ef688c94a5383378057a72e793db520063567edf644d7007164550f', 'script_hex': '47304402202106a1a53e4756bbab1d36df6d06aacae843c049d17c88f200a1dc1a24145ac702201caa3476f1f026d0ec916de8699e3ae30b2b4c119f85a576bab530ac072ebd300121028e530a084ef688c94a5383378057a72e793db520063567edf644d7007164550f', 'sequence': 4294967295, 'required_signatures': 1, 'type': 'pubkeyhash', 'addresses': array(['1GVU5B4LeQ33Q3VrnLhmDAfUP8EP3f9mbJ'], dtype=object), 'value': Decimal('117340.000000000')}\\n {'index': 1, 'spent_transaction_hash': '4c127c772bf484f2f9203eeac7e0e4b9bb029af6a35bb909f7826a011129b598', 'spent_output_index': 60, 'script_asm': '3045022100f88ef56ef82a73ac55cfe9834c6088fb3c081917efcd428946578ce8dfe001b702207dd868119aa85b1978f84d06b71f5655c08507e002163dc0fe515e1d3153aaef[ALL] 0240cc521f3c1d27f3757d5bdcdf20c92aa8908b2f851f7bfa46b57925f208dc4d', 'script_hex': '483045022100f88ef56ef82a73ac55cfe9834c6088fb3c081917efcd428946578ce8dfe001b702207dd868119aa85b1978f84d06b71f5655c08507e002163dc0fe515e1d3153aaef01210240cc521f3c1d27f3757d5bdcdf20c92aa8908b2f851f7bfa46b57925f208dc4d', 'sequence': 4294967295, 'required_signatures': 1, 'type': 'pubkeyhash', 'addresses': array(['1CVbrdg7ZmneNXuHeFk6imRXxEba35Z31'], dtype=object), 'value': Decimal('172954.000000000')}\\n {'index': 2, 'spent_transaction_hash': '4b4f0a9e039197b218a5ef967f1e9b46ab6862291334aa3b0c2fc8cf4e0b6700', 'spent_output_index': 73, 'script_asm': '3044022010063da1b7808319790693284ab7b597b95f3607584c897b9b2d0c3771668ede02205b3d57777a3774d4d6903456ee34c2d1c2432a83b01763bc88bf1ab478111500[ALL] 0216b0eab9c32bb9167208d052c3cd159eb353b2a3227bfa9ea2a178c7db6cd4fe', 'script_hex': '473044022010063da1b7808319790693284ab7b597b95f3607584c897b9b2d0c3771668ede02205b3d57777a3774d4d6903456ee34c2d1c2432a83b01763bc88bf1ab47811150001210216b0eab9c32bb9167208d052c3cd159eb353b2a3227bfa9ea2a178c7db6cd4fe', 'sequence': 4294967295, 'required_signatures': 1, 'type': 'pubkeyhash', 'addresses': array(['1PvpJpJRki3zMFH52dqRrfwchtovE9SGXT'], dtype=object), 'value': Decimal('133427.000000000')}\\n {'index': 3, 'spent_transaction_hash': 'cac79e959c266d24f5c3f26696a4daae5a9e792a7eb930d28d60c975d90c39db', 'spent_output_index': 88, 'script_asm': '304402205106c8de2465397863d417b48f6f18b7310b98bfac08981e6b595602daf0158c02205cd3b0414db7d2f78662f1e20d1a0d99d7a6f926134f7d4d402afbd70e78aed2[ALL] 02f510df17f7bba801cc7b98757ad1760fe0b9dd1a2ba1fe40d19a1b58f434e49f', 'script_hex': '47304402205106c8de2465397863d417b48f6f18b7310b98bfac08981e6b595602daf0158c02205cd3b0414db7d2f78662f1e20d1a0d99d7a6f926134f7d4d402afbd70e78aed2012102f510df17f7bba801cc7b98757ad1760fe0b9dd1a2ba1fe40d19a1b58f434e49f', 'sequence': 4294967295, 'required_signatures': 1, 'type': 'pubkeyhash', 'addresses': array(['1LV8a54q6WDVxJSqt1S1KGFJPktJMJsEva'], dtype=object), 'value': Decimal('58374.000000000')}\\n {'index': 4, 'spent_transaction_hash': 'bc08c4713fd0646d356fcac988e372bc24ec0dd81056b5f2d4c19de1322c3e11', 'spent_output_index': 0, 'script_asm': '304402203a239874b01a06a888d4c6f64c25b8089502ab5802f016f300ceed78837be57002203b3ab724a0166cca4bcf804ac4681f7468f90fb695d3959038fb8f782ea0ebeb[ALL] 0341c705ec50aa6f3b92ed5e69d1e2eea368bfd537c0a8e76665d957125f2fcabf', 'script_hex': '47304402203a239874b01a06a888d4c6f64c25b8089502ab5802f016f300ceed78837be57002203b3ab724a0166cca4bcf804ac4681f7468f90fb695d3959038fb8f782ea0ebeb01210341c705ec50aa6f3b92ed5e69d1e2eea368bfd537c0a8e76665d957125f2fcabf', 'sequence': 4294967295, 'required_signatures': 1, 'type': 'pubkeyhash', 'addresses': array(['1AfTy17uYsMT7iuEWiXfipm3HtRxA94jL9'], dtype=object), 'value': Decimal('166681.000000000')}\\n {'index': 5, 'spent_transaction_hash': 'd5d2db1b5f90731bf6326f1c84ee95d4a18ec002bb17a8f76516ef5a60269c8f', 'spent_output_index': 0, 'script_asm': '3044022077bae4f141782e5dcf2d2dc76b6a680806dc4d29361238038ce08c4dac7eb60b02200b5c9ef32a92a70c0326b6f563d2726ecc6b010cdfba99b9b598829bb081d541[ALL] 03fc4a700b7639bd1300fc1ee5e3901d4fca7f3b901ca4b623d1e1c03b3f09894a', 'script_hex': '473044022077bae4f141782e5dcf2d2dc76b6a680806dc4d29361238038ce08c4dac7eb60b02200b5c9ef32a92a70c0326b6f563d2726ecc6b010cdfba99b9b598829bb081d541012103fc4a700b7639bd1300fc1ee5e3901d4fca7f3b901ca4b623d1e1c03b3f09894a', 'sequence': 4294967295, 'required_signatures': 1, 'type': 'pubkeyhash', 'addresses': array(['16gvFQCj8i4Z6MAFXLR77dL9y8Kyu6fCR7'], dtype=object), 'value': Decimal('160342.000000000')}\\n {'index': 6, 'spent_transaction_hash': 'a82a4ac3af0304a9ce3a7fdff24d2a2b9411e35cb3840cc5bbaf27995cdbfffc', 'spent_output_index': 56, 'script_asm': '304502210085d5204cdd2b18d0ea08a179be624ce19750af638763f6060617af500cc4445b02200136b2e7b7d2b810336d34c576535b82f96ae65dce19097ba2fc8c67199b2321[ALL] 02f510df17f7bba801cc7b98757ad1760fe0b9dd1a2ba1fe40d19a1b58f434e49f', 'script_hex': '48304502210085d5204cdd2b18d0ea08a179be624ce19750af638763f6060617af500cc4445b02200136b2e7b7d2b810336d34c576535b82f96ae65dce19097ba2fc8c67199b2321012102f510df17f7bba801cc7b98757ad1760fe0b9dd1a2ba1fe40d19a1b58f434e49f', 'sequence': 4294967295, 'required_signatures': 1, 'type': 'pubkeyhash', 'addresses': array(['1LV8a54q6WDVxJSqt1S1KGFJPktJMJsEva'], dtype=object), 'value': Decimal('60197.000000000')}\\n {'index': 7, 'spent_transaction_hash': 'b55bfae08127fb9b3bf575a61f869b7e20712153dc1c860122cc2462739fd412', 'spent_output_index': 0, 'script_asm': '3045022100fdba7efefc80ef892c670fdb2b81955d109d43d0d0cea5cbf928159470f91c700220243258829069dce8889a187911953c7ea4a098b250b2202096bee413d9fcb185[ALL] 034244c4433e1fb744f2689d8d2e5fcdf0dfd2f208a4dbf6d78d4a4c7c4a5e8a51', 'script_hex': '483045022100fdba7efefc80ef892c670fdb2b81955d109d43d0d0cea5cbf928159470f91c700220243258829069dce8889a187911953c7ea4a098b250b2202096bee413d9fcb1850121034244c4433e1fb744f2689d8d2e5fcdf0dfd2f208a4dbf6d78d4a4c7c4a5e8a51', 'sequence': 4294967295, 'required_signatures': 1, 'type': 'pubkeyhash', 'addresses': array(['1G9vLqL9i6gGfTiwikAn3XWYWJ6cRURt8V'], dtype=object), 'value': Decimal('166681.000000000')}\\n {'index': 8, 'spent_transaction_hash': '5525e0b920f03238dd4444b13b81fd506c8ff2bb705d0ca64408f4e18117817b', 'spent_output_index': 22, 'script_asm': '304402202929544b63bc16751e52139ba0d4956ce2e34f2246dc94dda5c4aa6bb42bfcaf022077d137191d4e373dea410fa9da945796f0aef9c4d70d3d42896be70a20872fe3[ALL] 0305635f933cd5a117c661787de0694abac6061ac79c286f5753907631562f9afc', 'script_hex': '47304402202929544b63bc16751e52139ba0d4956ce2e34f2246dc94dda5c4aa6bb42bfcaf022077d137191d4e373dea410fa9da945796f0aef9c4d70d3d42896be70a20872fe301210305635f933cd5a117c661787de0694abac6061ac79c286f5753907631562f9afc', 'sequence': 4294967295, 'required_signatures': 1, 'type': 'pubkeyhash', 'addresses': array(['1AHV9JdiX3Z9dHeKSHPa2fpH6Z2rue5ZT9'], dtype=object), 'value': Decimal('62151.000000000')}\\n {'index': 9, 'spent_transaction_hash': '1769e3139ad38e873ecba3e4ef9dfd8f8c00d368ab070c4342c71e307e46f251', 'spent_output_index': 0, 'script_asm': '3045022100b4978d5ba5814661cb2d43caf0ae88f6146113c42142e87331aef51f0f8b70680220476d649237b494cd8acec4ca5bbc002400c50b8f6b6528f743440c8a7cb7b9d5[ALL] 02436885f2b867c5c71644b02a78b965ae55045f1ece07cbeef455645fd69e20c2', 'script_hex': '483045022100b4978d5ba5814661cb2d43caf0ae88f6146113c42142e87331aef51f0f8b70680220476d649237b494cd8acec4ca5bbc002400c50b8f6b6528f743440c8a7cb7b9d5012102436885f2b867c5c71644b02a78b965ae55045f1ece07cbeef455645fd69e20c2', 'sequence': 4294967295, 'required_signatures': 1, 'type': 'pubkeyhash', 'addresses': array(['1Jrnhzxiq4gLLwrCU5GwMv6u5wSWX69hE9'], dtype=object), 'value': Decimal('83246.000000000')}\\n {'index': 10, 'spent_transaction_hash': '664326629fbefe3033185e0ef00a2ea9bf5556173f0ae617bc0a92a0d683b390', 'spent_output_index': 0, 'script_asm': '3045022100a09c78708ef07fc22cd5e7a7b0f8e3b42a51646eb246a68f876467f6fb9059a40220595eef4911f62f99272ea327650b82f329d1f16e2169f9ffafa6b567c6dfc30b[ALL] 034244c4433e1fb744f2689d8d2e5fcdf0dfd2f208a4dbf6d78d4a4c7c4a5e8a51', 'script_hex': '483045022100a09c78708ef07fc22cd5e7a7b0f8e3b42a51646eb246a68f876467f6fb9059a40220595eef4911f62f99272ea327650b82f329d1f16e2169f9ffafa6b567c6dfc30b0121034244c4433e1fb744f2689d8d2e5fcdf0dfd2f208a4dbf6d78d4a4c7c4a5e8a51', 'sequence': 4294967295, 'required_signatures': 1, 'type': 'pubkeyhash', 'addresses': array(['1G9vLqL9i6gGfTiwikAn3XWYWJ6cRURt8V'], dtype=object), 'value': Decimal('166744.000000000')}\\n {'index': 11, 'spent_transaction_hash': '08173805a5ecd9de1b6f53f1e0e14bbc4cec9e01fca8924f4b5ead28a34191d8', 'spent_output_index': 67, 'script_asm': '3044022017b09bd234534fca39b6982f6d2af3c23684430defdd44551bb07333c1e8cd0102202a087f1ab545ffdf200f6b7d489b607fe4eee76a4ba6fde579b203423396acbc[ALL] 0389d6658174eda1045d941c71ac1b3cf199c59f77f71f1835cb14a629cfd4e98c', 'script_hex': '473044022017b09bd234534fca39b6982f6d2af3c23684430defdd44551bb07333c1e8cd0102202a087f1ab545ffdf200f6b7d489b607fe4eee76a4ba6fde579b203423396acbc01210389d6658174eda1045d941c71ac1b3cf199c59f77f71f1835cb14a629cfd4e98c', 'sequence': 4294967295, 'required_signatures': 1, 'type': 'pubkeyhash', 'addresses': array(['1K6SYKGqzCXoTQ6n8wJBPABJfz6e4Dq5nR'], dtype=object), 'value': Decimal('58371.000000000')}\\n {'index': 12, 'spent_transaction_hash': '9c445efbd5d3f52240875f13f6ae2d0df895654d84733f1da637fbf821724d6c', 'spent_output_index': 14, 'script_asm': '3045022100d8c4c6f455b63082f660d18dfbb41e6bf5c581b94ee62f343d54d91cf0251df5022005a920aca4c505fb63b6df993e6bbee487b8d45e43365eda111cd1edbe327ded[ALL] 02a04ada4d4206e2dfdae2f92880c7a7e91a80d7a35551b4c342cc55f694598f0f', 'script_hex': '483045022100d8c4c6f455b63082f660d18dfbb41e6bf5c581b94ee62f343d54d91cf0251df5022005a920aca4c505fb63b6df993e6bbee487b8d45e43365eda111cd1edbe327ded012102a04ada4d4206e2dfdae2f92880c7a7e91a80d7a35551b4c342cc55f694598f0f', 'sequence': 4294967295, 'required_signatures': 1, 'type': 'pubkeyhash', 'addresses': array(['18djK7GZWvCfqPgFeEbv2cpPFCeGp39vRD'], dtype=object), 'value': Decimal('58783.000000000')}\\n {'index': 13, 'spent_transaction_hash': '06aa88cf0cdf32d32a99a6b59c19d03f655c82c8347163dab1936ec319220892', 'spent_output_index': 1, 'script_asm': '304402204d18542789be19a1a9f46e0d854a38e687ae606a064e39cb7b3c39ea48c6e26e022038226ba1cd0c08eff32dc2c157e6e59d122af21a021343bb9d27849d0a9622a1[ALL] 027d4b60dcf8bb963ab9d8bdc8f3f17145ef68a8f77beb1dac82a932a46f3bac2f', 'script_hex': '47304402204d18542789be19a1a9f46e0d854a38e687ae606a064e39cb7b3c39ea48c6e26e022038226ba1cd0c08eff32dc2c157e6e59d122af21a021343bb9d27849d0a9622a10121027d4b60dcf8bb963ab9d8bdc8f3f17145ef68a8f77beb1dac82a932a46f3bac2f', 'sequence': 4294967295, 'required_signatures': 1, 'type': 'pubkeyhash', 'addresses': array(['15nzaAMCEa7h6xXppEw1EiPJ5cFkd7gFXG'], dtype=object), 'value': Decimal('117051.000000000')}\\n {'index': 14, 'spent_transaction_hash': '080e6f00780ed394859e7def05634eb96c03af25cbc8c419534020b766d613d4', 'spent_output_index': 76, 'script_asm': '304402206c3bf433facd37271ef269ab27077705f389481332f41bf6befe6d9a4801eedf02203a9b65f1e6cf57a20fadf9261ef0ef1e2325834a7e52704ba062de431c0ac4d7[ALL] 026ea6515aa5734cdf137cfa4aafc3d8a79d64569281214040231683bf27766acf', 'script_hex': '47304402206c3bf433facd37271ef269ab27077705f389481332f41bf6befe6d9a4801eedf02203a9b65f1e6cf57a20fadf9261ef0ef1e2325834a7e52704ba062de431c0ac4d70121026ea6515aa5734cdf137cfa4aafc3d8a79d64569281214040231683bf27766acf', 'sequence': 4294967295, 'required_signatures': 1, 'type': 'pubkeyhash', 'addresses': array(['15S6Bt2k9dWma8Ry7V1G2A5YkmvEZqpf64'], dtype=object), 'value': Decimal('314062.000000000')}\\n {'index': 15, 'spent_transaction_hash': '080e6f00780ed394859e7def05634eb96c03af25cbc8c419534020b766d613d4', 'spent_output_index': 87, 'script_asm': '304502210098c49e54a9bb01784203788a83c82a792eb688d132e6c02eec695a323fa9b96302206494c24e05c48873c898988334af0e99e9f4db69a57162f8c6eb4bb74ebf72a1[ALL] 0305635f933cd5a117c661787de0694abac6061ac79c286f5753907631562f9afc', 'script_hex': '48304502210098c49e54a9bb01784203788a83c82a792eb688d132e6c02eec695a323fa9b96302206494c24e05c48873c898988334af0e99e9f4db69a57162f8c6eb4bb74ebf72a101210305635f933cd5a117c661787de0694abac6061ac79c286f5753907631562f9afc', 'sequence': 4294967295, 'required_signatures': 1, 'type': 'pubkeyhash', 'addresses': array(['1AHV9JdiX3Z9dHeKSHPa2fpH6Z2rue5ZT9'], dtype=object), 'value': Decimal('73393.000000000')}\\n {'index': 16, 'spent_transaction_hash': 'feec234a13cc7d0534aa6f6143527d580d366ae99f6220c0dc511dbf6f9adc8a', 'spent_output_index': 82, 'script_asm': '3045022100dcce0413978700ca916ff65ecf75a3f035b59efaf38cbfb625ec06edfa774d4c022056f4b09133530dc3ab08e8fa4616914dd9c3fb85999cb21b1c6f9654f5cf78b6[ALL] 02cf3e4149fe0bf80030565f6b514b2b8abfbc452085156264aa45096bcd798921', 'script_hex': '483045022100dcce0413978700ca916ff65ecf75a3f035b59efaf38cbfb625ec06edfa774d4c022056f4b09133530dc3ab08e8fa4616914dd9c3fb85999cb21b1c6f9654f5cf78b6012102cf3e4149fe0bf80030565f6b514b2b8abfbc452085156264aa45096bcd798921', 'sequence': 4294967295, 'required_signatures': 1, 'type': 'pubkeyhash', 'addresses': array(['1BSdnDEV3m2tgBj3ypSAiuEXF4gt66NHVN'], dtype=object), 'value': Decimal('66749.000000000')}]\""
      ]
     },
     "execution_count": 54,
     "metadata": {},
     "output_type": "execute_result"
    }
   ],
   "source": [
    "df['inputs'].iloc[0]"
   ]
  },
  {
   "cell_type": "markdown",
   "metadata": {},
   "source": [
    "_OUTPUTS_ :\n",
    "- |__index:__| -> (numeric) Index of the tx. \n",
    "- |__script_asm__| -> (string) String representation of the script public key.\n",
    "- |__script_hex__| -> (string) Hex string of the script public key. \n",
    "- |__required_signatures__| -> (numeric) The required signatures (always 1)\n",
    "- |__type__| -> (string) The type of the script public key (e.g. witness_v0_keyhash or witness_v0_scripthash)\n",
    "- |__address__| -> (json array) Basically amount of inputs.\n",
    "- |__value__| -> (numeric) Amount of sats sent/received to that address"
   ]
  },
  {
   "cell_type": "code",
   "execution_count": 55,
   "metadata": {},
   "outputs": [
    {
     "data": {
      "text/plain": [
       "\"[{'index': 0, 'script_asm': 'OP_HASH160 07b6f59a942758f37199246bce9f2bb5e9d16c31 OP_EQUAL', 'script_hex': 'a91407b6f59a942758f37199246bce9f2bb5e9d16c3187', 'required_signatures': 1.0, 'type': 'scripthash', 'addresses': array(['32Poq8NJmBKDt7eMGKDeTPBc3iw7jGZ3sf'], dtype=object), 'value': Decimal('1964880.000000000')}\\n {'index': 1, 'script_asm': 'OP_HASH160 ab88d94e76e4cf78ee6c4111efcfcf321ed9df76 OP_EQUAL', 'script_hex': 'a914ab88d94e76e4cf78ee6c4111efcfcf321ed9df7687', 'required_signatures': 1.0, 'type': 'scripthash', 'addresses': array(['3HL1QmiZaAT85uRXuNGq2y7rYR4thhBubc'], dtype=object), 'value': Decimal('50914.000000000')}]\""
      ]
     },
     "execution_count": 55,
     "metadata": {},
     "output_type": "execute_result"
    }
   ],
   "source": [
    "df['outputs'].iloc[0]"
   ]
  },
  {
   "cell_type": "markdown",
   "metadata": {},
   "source": [
    "<br>"
   ]
  },
  {
   "cell_type": "markdown",
   "metadata": {},
   "source": [
    "#### Let's write a function to convert these 2 important columns into something that we can actually work with..."
   ]
  },
  {
   "cell_type": "code",
   "execution_count": 56,
   "metadata": {},
   "outputs": [],
   "source": [
    "# This function converts the string on each road of the selected columns into a list of well-formed dictionaries.\n",
    "\n",
    "def clean_columns(x, index):\n",
    "    y = x[index]\n",
    "    \n",
    "    if y == \"[]\":\n",
    "        return x\n",
    "    chars_to_replace = \"[{'}]\\n( \" # unnecessary characters that belonged to bigquery json format.\n",
    "\n",
    "    words_to_replace = [\"array\", \"dtype=object\", \"Decimal\", \")index\"] # 'change' chars that are useless. \n",
    "\n",
    "    \n",
    "    for char in chars_to_replace:\n",
    "        y = y.replace(char, \"\")\n",
    "\n",
    "    for word in words_to_replace:\n",
    "        y = y.replace(word, \"\")\n",
    "        \n",
    "    y = y.replace(\")\", \"\")\n",
    "\n",
    "    inputs_dict = defaultdict(list)\n",
    "    rep_text = y.split(\":\")\n",
    "    inputs_dict[rep_text[0]].append(rep_text[1][0])\n",
    "    for i, thing in enumerate(rep_text):\n",
    "        if i == 0:\n",
    "            continue\n",
    "        thing = thing.split(\",\")\n",
    "        \n",
    "        if i == 1:\n",
    "            last_thing = thing[1]\n",
    "            #inputs_dict[last_thing] = []\n",
    "        else:\n",
    "            try:\n",
    "                thing[0] = int(thing[0])\n",
    "            except ValueError:\n",
    "                pass\n",
    "            \n",
    "            inputs_dict[last_thing].append(thing[0])\n",
    "            try:\n",
    "                last_thing = thing[1]\n",
    "            except IndexError as error:\n",
    "                inputs_dict[\"values\"].append(thing[0])\n",
    "\n",
    "    inputs_dict[\"index\"] = list(range(len(inputs_dict[\"required_signatures\"])))\n",
    "    inputs_dict[\"values\"] = [float(value.replace(\"E\", \"e\").split(\".\")[0]) for value in inputs_dict[\"values\"]]\n",
    "    inputs_dict[\"hash\"] = [x[1]] * len(inputs_dict[\"index\"])\n",
    "    [inputs_dict.pop(key) for key in list(inputs_dict.keys()) if key not in [\"hash\", \"sequence\", \"spent_output_index\", \"spent_transaction_hash\", \"type\", \"values\", \"addresses\"]]\n",
    "    #keeping only neccesary columns for our product\n",
    "    \n",
    "    \n",
    "    return inputs_dict"
   ]
  },
  {
   "cell_type": "code",
   "execution_count": 57,
   "metadata": {},
   "outputs": [
    {
     "name": "stdout",
     "output_type": "stream",
     "text": [
      "This piece of code took:  365.32020378112793 to run\n"
     ]
    }
   ],
   "source": [
    "# Let's test it\n",
    "\n",
    "start = time.time()\n",
    "\n",
    "outputs = df.apply(clean_columns, axis=1, index=-1) # parse \"outputs\" columns\n",
    "inputs = df.apply(clean_columns, axis=1, index=-2) # parse \"inputs\" columns\n",
    "\n",
    "print('This piece of code took: ',time.time() - start , 'to run')"
   ]
  },
  {
   "cell_type": "code",
   "execution_count": 58,
   "metadata": {},
   "outputs": [
    {
     "data": {
      "text/plain": [
       "0       {'spent_transaction_hash': ['b836bc9e4e2eb3452...\n",
       "1410    {'spent_transaction_hash': ['732b8e02e6c398718...\n",
       "1409    {'spent_transaction_hash': ['e83d0d240fcaefd3e...\n",
       "1408    {'spent_transaction_hash': ['3e0ef0674bf0ed1a9...\n",
       "1407    {'spent_transaction_hash': ['c1724ddf47f200b7b...\n",
       "dtype: object"
      ]
     },
     "execution_count": 58,
     "metadata": {},
     "output_type": "execute_result"
    },
    {
     "data": {
      "text/plain": [
       "collections.defaultdict"
      ]
     },
     "execution_count": 58,
     "metadata": {},
     "output_type": "execute_result"
    },
    {
     "data": {
      "text/plain": [
       "dict_keys(['spent_transaction_hash', 'spent_output_index', 'sequence', 'type', 'addresses', 'values', 'hash'])"
      ]
     },
     "execution_count": 58,
     "metadata": {},
     "output_type": "execute_result"
    },
    {
     "data": {
      "text/plain": [
       "dict_values([['b836bc9e4e2eb34520dded6a97db44b1a8edd86c017b6d6ee40f95c4130e50c2', '4c127c772bf484f2f9203eeac7e0e4b9bb029af6a35bb909f7826a011129b598', '4b4f0a9e039197b218a5ef967f1e9b46ab6862291334aa3b0c2fc8cf4e0b6700', 'cac79e959c266d24f5c3f26696a4daae5a9e792a7eb930d28d60c975d90c39db', 'bc08c4713fd0646d356fcac988e372bc24ec0dd81056b5f2d4c19de1322c3e11', 'd5d2db1b5f90731bf6326f1c84ee95d4a18ec002bb17a8f76516ef5a60269c8f', 'a82a4ac3af0304a9ce3a7fdff24d2a2b9411e35cb3840cc5bbaf27995cdbfffc', 'b55bfae08127fb9b3bf575a61f869b7e20712153dc1c860122cc2462739fd412', '5525e0b920f03238dd4444b13b81fd506c8ff2bb705d0ca64408f4e18117817b', '1769e3139ad38e873ecba3e4ef9dfd8f8c00d368ab070c4342c71e307e46f251', '664326629fbefe3033185e0ef00a2ea9bf5556173f0ae617bc0a92a0d683b390', '08173805a5ecd9de1b6f53f1e0e14bbc4cec9e01fca8924f4b5ead28a34191d8', '9c445efbd5d3f52240875f13f6ae2d0df895654d84733f1da637fbf821724d6c', '06aa88cf0cdf32d32a99a6b59c19d03f655c82c8347163dab1936ec319220892', '080e6f00780ed394859e7def05634eb96c03af25cbc8c419534020b766d613d4', '080e6f00780ed394859e7def05634eb96c03af25cbc8c419534020b766d613d4', 'feec234a13cc7d0534aa6f6143527d580d366ae99f6220c0dc511dbf6f9adc8a'], [63, 60, 73, 88, 0, 0, 56, 0, 22, 0, 0, 67, 14, 1, 76, 87, 82], [4294967295, 4294967295, 4294967295, 4294967295, 4294967295, 4294967295, 4294967295, 4294967295, 4294967295, 4294967295, 4294967295, 4294967295, 4294967295, 4294967295, 4294967295, 4294967295, 4294967295], ['pubkeyhash', 'pubkeyhash', 'pubkeyhash', 'pubkeyhash', 'pubkeyhash', 'pubkeyhash', 'pubkeyhash', 'pubkeyhash', 'pubkeyhash', 'pubkeyhash', 'pubkeyhash', 'pubkeyhash', 'pubkeyhash', 'pubkeyhash', 'pubkeyhash', 'pubkeyhash', 'pubkeyhash'], ['1GVU5B4LeQ33Q3VrnLhmDAfUP8EP3f9mbJ', '1CVbrdg7ZmneNXuHeFk6imRXxEba35Z31', '1PvpJpJRki3zMFH52dqRrfwchtovE9SGXT', '1LV8a54q6WDVxJSqt1S1KGFJPktJMJsEva', '1AfTy17uYsMT7iuEWiXfipm3HtRxA94jL9', '16gvFQCj8i4Z6MAFXLR77dL9y8Kyu6fCR7', '1LV8a54q6WDVxJSqt1S1KGFJPktJMJsEva', '1G9vLqL9i6gGfTiwikAn3XWYWJ6cRURt8V', '1AHV9JdiX3Z9dHeKSHPa2fpH6Z2rue5ZT9', '1Jrnhzxiq4gLLwrCU5GwMv6u5wSWX69hE9', '1G9vLqL9i6gGfTiwikAn3XWYWJ6cRURt8V', '1K6SYKGqzCXoTQ6n8wJBPABJfz6e4Dq5nR', '18djK7GZWvCfqPgFeEbv2cpPFCeGp39vRD', '15nzaAMCEa7h6xXppEw1EiPJ5cFkd7gFXG', '15S6Bt2k9dWma8Ry7V1G2A5YkmvEZqpf64', '1AHV9JdiX3Z9dHeKSHPa2fpH6Z2rue5ZT9', '1BSdnDEV3m2tgBj3ypSAiuEXF4gt66NHVN'], [117340.0, 172954.0, 133427.0, 58374.0, 166681.0, 160342.0, 60197.0, 166681.0, 62151.0, 83246.0, 166744.0, 58371.0, 58783.0, 117051.0, 314062.0, 73393.0, 66749.0], [2581, 2581, 2581, 2581, 2581, 2581, 2581, 2581, 2581, 2581, 2581, 2581, 2581, 2581, 2581, 2581, 2581]])"
      ]
     },
     "execution_count": 58,
     "metadata": {},
     "output_type": "execute_result"
    }
   ],
   "source": [
    "# exploring the recently created pandas series variables\n",
    "\n",
    "inputs.head()\n",
    "type(inputs.iloc[0])\n",
    "inputs.iloc[0].keys()\n",
    "inputs.iloc[0].values()"
   ]
  },
  {
   "cell_type": "code",
   "execution_count": 59,
   "metadata": {},
   "outputs": [
    {
     "data": {
      "text/plain": [
       "pandas.core.series.Series"
      ]
     },
     "execution_count": 59,
     "metadata": {},
     "output_type": "execute_result"
    },
    {
     "data": {
      "text/plain": [
       "pandas.core.series.Series"
      ]
     },
     "execution_count": 59,
     "metadata": {},
     "output_type": "execute_result"
    }
   ],
   "source": [
    "type(inputs)\n",
    "type(outputs)"
   ]
  },
  {
   "cell_type": "markdown",
   "metadata": {},
   "source": [
    "<br>"
   ]
  },
  {
   "cell_type": "code",
   "execution_count": 60,
   "metadata": {},
   "outputs": [
    {
     "data": {
      "text/plain": [
       "defaultdict(list,\n",
       "            {'spent_transaction_hash': ['b836bc9e4e2eb34520dded6a97db44b1a8edd86c017b6d6ee40f95c4130e50c2',\n",
       "              '4c127c772bf484f2f9203eeac7e0e4b9bb029af6a35bb909f7826a011129b598',\n",
       "              '4b4f0a9e039197b218a5ef967f1e9b46ab6862291334aa3b0c2fc8cf4e0b6700',\n",
       "              'cac79e959c266d24f5c3f26696a4daae5a9e792a7eb930d28d60c975d90c39db',\n",
       "              'bc08c4713fd0646d356fcac988e372bc24ec0dd81056b5f2d4c19de1322c3e11',\n",
       "              'd5d2db1b5f90731bf6326f1c84ee95d4a18ec002bb17a8f76516ef5a60269c8f',\n",
       "              'a82a4ac3af0304a9ce3a7fdff24d2a2b9411e35cb3840cc5bbaf27995cdbfffc',\n",
       "              'b55bfae08127fb9b3bf575a61f869b7e20712153dc1c860122cc2462739fd412',\n",
       "              '5525e0b920f03238dd4444b13b81fd506c8ff2bb705d0ca64408f4e18117817b',\n",
       "              '1769e3139ad38e873ecba3e4ef9dfd8f8c00d368ab070c4342c71e307e46f251',\n",
       "              '664326629fbefe3033185e0ef00a2ea9bf5556173f0ae617bc0a92a0d683b390',\n",
       "              '08173805a5ecd9de1b6f53f1e0e14bbc4cec9e01fca8924f4b5ead28a34191d8',\n",
       "              '9c445efbd5d3f52240875f13f6ae2d0df895654d84733f1da637fbf821724d6c',\n",
       "              '06aa88cf0cdf32d32a99a6b59c19d03f655c82c8347163dab1936ec319220892',\n",
       "              '080e6f00780ed394859e7def05634eb96c03af25cbc8c419534020b766d613d4',\n",
       "              '080e6f00780ed394859e7def05634eb96c03af25cbc8c419534020b766d613d4',\n",
       "              'feec234a13cc7d0534aa6f6143527d580d366ae99f6220c0dc511dbf6f9adc8a'],\n",
       "             'spent_output_index': [63,\n",
       "              60,\n",
       "              73,\n",
       "              88,\n",
       "              0,\n",
       "              0,\n",
       "              56,\n",
       "              0,\n",
       "              22,\n",
       "              0,\n",
       "              0,\n",
       "              67,\n",
       "              14,\n",
       "              1,\n",
       "              76,\n",
       "              87,\n",
       "              82],\n",
       "             'sequence': [4294967295,\n",
       "              4294967295,\n",
       "              4294967295,\n",
       "              4294967295,\n",
       "              4294967295,\n",
       "              4294967295,\n",
       "              4294967295,\n",
       "              4294967295,\n",
       "              4294967295,\n",
       "              4294967295,\n",
       "              4294967295,\n",
       "              4294967295,\n",
       "              4294967295,\n",
       "              4294967295,\n",
       "              4294967295,\n",
       "              4294967295,\n",
       "              4294967295],\n",
       "             'type': ['pubkeyhash',\n",
       "              'pubkeyhash',\n",
       "              'pubkeyhash',\n",
       "              'pubkeyhash',\n",
       "              'pubkeyhash',\n",
       "              'pubkeyhash',\n",
       "              'pubkeyhash',\n",
       "              'pubkeyhash',\n",
       "              'pubkeyhash',\n",
       "              'pubkeyhash',\n",
       "              'pubkeyhash',\n",
       "              'pubkeyhash',\n",
       "              'pubkeyhash',\n",
       "              'pubkeyhash',\n",
       "              'pubkeyhash',\n",
       "              'pubkeyhash',\n",
       "              'pubkeyhash'],\n",
       "             'addresses': ['1GVU5B4LeQ33Q3VrnLhmDAfUP8EP3f9mbJ',\n",
       "              '1CVbrdg7ZmneNXuHeFk6imRXxEba35Z31',\n",
       "              '1PvpJpJRki3zMFH52dqRrfwchtovE9SGXT',\n",
       "              '1LV8a54q6WDVxJSqt1S1KGFJPktJMJsEva',\n",
       "              '1AfTy17uYsMT7iuEWiXfipm3HtRxA94jL9',\n",
       "              '16gvFQCj8i4Z6MAFXLR77dL9y8Kyu6fCR7',\n",
       "              '1LV8a54q6WDVxJSqt1S1KGFJPktJMJsEva',\n",
       "              '1G9vLqL9i6gGfTiwikAn3XWYWJ6cRURt8V',\n",
       "              '1AHV9JdiX3Z9dHeKSHPa2fpH6Z2rue5ZT9',\n",
       "              '1Jrnhzxiq4gLLwrCU5GwMv6u5wSWX69hE9',\n",
       "              '1G9vLqL9i6gGfTiwikAn3XWYWJ6cRURt8V',\n",
       "              '1K6SYKGqzCXoTQ6n8wJBPABJfz6e4Dq5nR',\n",
       "              '18djK7GZWvCfqPgFeEbv2cpPFCeGp39vRD',\n",
       "              '15nzaAMCEa7h6xXppEw1EiPJ5cFkd7gFXG',\n",
       "              '15S6Bt2k9dWma8Ry7V1G2A5YkmvEZqpf64',\n",
       "              '1AHV9JdiX3Z9dHeKSHPa2fpH6Z2rue5ZT9',\n",
       "              '1BSdnDEV3m2tgBj3ypSAiuEXF4gt66NHVN'],\n",
       "             'values': [117340.0,\n",
       "              172954.0,\n",
       "              133427.0,\n",
       "              58374.0,\n",
       "              166681.0,\n",
       "              160342.0,\n",
       "              60197.0,\n",
       "              166681.0,\n",
       "              62151.0,\n",
       "              83246.0,\n",
       "              166744.0,\n",
       "              58371.0,\n",
       "              58783.0,\n",
       "              117051.0,\n",
       "              314062.0,\n",
       "              73393.0,\n",
       "              66749.0],\n",
       "             'hash': [2581,\n",
       "              2581,\n",
       "              2581,\n",
       "              2581,\n",
       "              2581,\n",
       "              2581,\n",
       "              2581,\n",
       "              2581,\n",
       "              2581,\n",
       "              2581,\n",
       "              2581,\n",
       "              2581,\n",
       "              2581,\n",
       "              2581,\n",
       "              2581,\n",
       "              2581,\n",
       "              2581]})"
      ]
     },
     "execution_count": 60,
     "metadata": {},
     "output_type": "execute_result"
    }
   ],
   "source": [
    "inputs.iloc[0]"
   ]
  },
  {
   "cell_type": "code",
   "execution_count": null,
   "metadata": {},
   "outputs": [],
   "source": [
    "# expanding dicts\n",
    "# this line is gonna take a lot of computational power. It is highly recommended to split the df in chunks!!!\n",
    "\n",
    "df_outputs = []\n",
    "df_inputs = []\n",
    "\n",
    "start = time.time()\n",
    "for i in range(outputs.shape[0]):\n",
    "    df_outputs.append(pd.DataFrame.from_dict(outputs.iloc[i]))\n",
    "\n",
    "print('Outputs: ', time.time() - start)\n",
    "\n",
    "start = time.time()\n",
    "for i in range(inputs.shape[0]):\n",
    "    \n",
    "    #if len(inputs.iloc[i].keys()) == 7: # remove entries without inputs (rewards for mining a block)\n",
    "    df_inputs.append(pd.DataFrame.from_dict(inputs.iloc[i]))\n",
    "\n",
    "print('Inputs: ', time.time() - start)"
   ]
  },
  {
   "cell_type": "code",
   "execution_count": null,
   "metadata": {},
   "outputs": [],
   "source": [
    "type(df_inputs)\n",
    "type(df_outputs)"
   ]
  },
  {
   "cell_type": "code",
   "execution_count": null,
   "metadata": {},
   "outputs": [],
   "source": [
    "df_inputs[0].values"
   ]
  },
  {
   "cell_type": "markdown",
   "metadata": {},
   "source": [
    "<br>"
   ]
  },
  {
   "cell_type": "code",
   "execution_count": null,
   "metadata": {},
   "outputs": [],
   "source": [
    "# converting to df\n",
    "\n",
    "start = time.time()\n",
    "outputs = pd.concat(df_outputs)\n",
    "print('Outputs: ', time.time() - start)\n",
    "start = time.time()\n",
    "inputs = pd.concat(df_inputs)\n",
    "print('Inputs: ', time.time() - start)"
   ]
  },
  {
   "cell_type": "code",
   "execution_count": null,
   "metadata": {},
   "outputs": [],
   "source": [
    "inputs.head()\n",
    "outputs.head()"
   ]
  },
  {
   "cell_type": "code",
   "execution_count": 24,
   "metadata": {},
   "outputs": [],
   "source": [
    "# saving files\n",
    "\n",
    "df.to_csv('../files/blocks_btc.csv')\n",
    "#inputs.to_csv('../files/inputs.csv')\n",
    "#outputs.to_csv('../files/outputs.csv')"
   ]
  },
  {
   "cell_type": "code",
   "execution_count": 65,
   "metadata": {},
   "outputs": [
    {
     "name": "stdout",
     "output_type": "stream",
     "text": [
      "<class 'pandas.core.frame.DataFrame'>\n",
      "Int64Index: 1482749 entries, 0 to 1482748\n",
      "Data columns (total 17 columns):\n",
      "hash                     1482749 non-null object\n",
      "size                     1482749 non-null int64\n",
      "virtual_size             1482749 non-null int64\n",
      "version                  1482749 non-null int64\n",
      "lock_time                1482749 non-null int64\n",
      "block_hash               1482749 non-null object\n",
      "block_number             1482749 non-null int64\n",
      "block_timestamp          1482749 non-null datetime64[ns]\n",
      "block_timestamp_month    1482749 non-null datetime64[ns]\n",
      "input_count              1482749 non-null int64\n",
      "output_count             1482749 non-null int64\n",
      "input_value              1482749 non-null float64\n",
      "output_value             1482749 non-null float64\n",
      "is_coinbase              1482749 non-null bool\n",
      "fee                      1482749 non-null float64\n",
      "inputs                   1482749 non-null object\n",
      "outputs                  1482749 non-null object\n",
      "dtypes: bool(1), datetime64[ns](2), float64(3), int64(7), object(4)\n",
      "memory usage: 193.7+ MB\n"
     ]
    }
   ],
   "source": [
    "df.info()"
   ]
  }
 ],
 "metadata": {
  "kernelspec": {
   "display_name": "Python 3",
   "language": "python",
   "name": "python3"
  },
  "language_info": {
   "codemirror_mode": {
    "name": "ipython",
    "version": 3
   },
   "file_extension": ".py",
   "mimetype": "text/x-python",
   "name": "python",
   "nbconvert_exporter": "python",
   "pygments_lexer": "ipython3",
   "version": "3.7.4"
  }
 },
 "nbformat": 4,
 "nbformat_minor": 2
}
