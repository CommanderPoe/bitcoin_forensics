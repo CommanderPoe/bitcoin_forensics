{
 "cells": [
  {
   "cell_type": "markdown",
   "metadata": {},
   "source": [
    "#### The following notebook walks you thru the steps of scraping this [website](https://www.bitcoinabuse.com). \n",
    "\n",
    "___"
   ]
  },
  {
   "cell_type": "markdown",
   "metadata": {},
   "source": [
    "### Bitcoin Abuse Database\n",
    "\n",
    "Tracking bitcoin addresses used by ransomware, blackmailers, fraudsters, etc.\n",
    "\n",
    "There have been 90 reports in the last day, 1,080 reports in the last week, and 4,864 reports in the last month.\n",
    "\n",
    "___"
   ]
  },
  {
   "cell_type": "code",
   "execution_count": 3,
   "metadata": {},
   "outputs": [],
   "source": [
    "# importing required libraries\n",
    "from bs4 import BeautifulSoup\n",
    "import requests\n",
    "import random\n",
    "import pandas as pd\n",
    "from time import sleep"
   ]
  },
  {
   "cell_type": "markdown",
   "metadata": {},
   "source": [
    "<br>"
   ]
  },
  {
   "cell_type": "markdown",
   "metadata": {},
   "source": [
    "#### Let's try first with the first page..."
   ]
  },
  {
   "cell_type": "raw",
   "metadata": {},
   "source": [
    "# getting the main page\n",
    "\n",
    "url = \"https://www.bitcoinabuse.com/reports?page=1\"\n",
    "\n",
    "# checking response of the website\n",
    "\n",
    "response = requests.get(url)\n",
    "response.status_code\n",
    "\n",
    "# parsing the website (only single page)\n",
    "\n",
    "soup = BeautifulSoup(response.content, \"html.parser\")\n",
    "\n",
    "# selecting the desirable section\n",
    "\n",
    "soup.select('#spark-app > main > div.container > div:nth-child(4) > div:nth-child(1) > a')\n",
    "\n",
    "# looping thru all the elements of a single page\n",
    "\n",
    "for i in soup.select('#spark-app > main > div.container > div:nth-child(4) > div:nth-child(1) > a'):\n",
    "    print(i.get_text())\n",
    "\n",
    "# copying the webpage selector\n",
    "\n",
    "table= soup.select('#spark-app > main > div.container > div:nth-child(4) > div > a')\n",
    "\n",
    "# saving all addresses in an empty list\n",
    "\n",
    "abused_addresses= []\n",
    "\n",
    "for i in table:\n",
    "    abused_addresses.append(i.get_text())\n",
    "    \n",
    "\n",
    "abused_addresses"
   ]
  },
  {
   "cell_type": "markdown",
   "metadata": {},
   "source": [
    "___"
   ]
  },
  {
   "cell_type": "markdown",
   "metadata": {},
   "source": [
    "#### Now, let's get all abbused addresses from last month. \n",
    "_03/04/2021 - 04/04/2021_\n",
    "\n",
    "If you are using the script keep in mind that bitcoinabuse.com posts recent reported addresses dinamically and not statically time wise. So you would have to go to the website and look for the months you want to scrape and use those pages, otherwise you can always scrape the whole website."
   ]
  },
  {
   "cell_type": "code",
   "execution_count": null,
   "metadata": {},
   "outputs": [],
   "source": [
    "# getting all pages\n",
    "\n",
    "pages= []\n",
    "\n",
    "for i in range(50, 76, 1):\n",
    "    url= \"https://www.bitcoinabuse.com/reports?page=\" + str(i)\n",
    "    wait_time= random.randint(1,2)\n",
    "    sleep(wait_time)\n",
    "    \n",
    "    print('Im sleeping for '+ str(wait_time)+ 'secs')\n",
    "    response= requests.get(url)\n",
    "    pages.append(response)\n",
    "    print(url)"
   ]
  },
  {
   "cell_type": "code",
   "execution_count": 53,
   "metadata": {},
   "outputs": [
    {
     "name": "stdout",
     "output_type": "stream",
     "text": [
      "2600\n"
     ]
    }
   ],
   "source": [
    "# saving the outcome on a list\n",
    "\n",
    "pages_parsed = []\n",
    "abused_addresses = []\n",
    "\n",
    "for i in range(len(pages)):\n",
    "    pages_parsed.append(BeautifulSoup(pages[i].content, \"html.parser\"))\n",
    "    addresses = pages_parsed[i].select('#spark-app > main > div.container > div:nth-child(4) > div > a')\n",
    "    for j in range(len(addresses)):\n",
    "        abused_addresses.append(addresses[j].get_text())\n",
    "\n",
    "\n",
    "# Checking our output:\n",
    "print(len(abused_addresses)) # output: 2600 addresses"
   ]
  },
  {
   "cell_type": "code",
   "execution_count": 59,
   "metadata": {},
   "outputs": [],
   "source": [
    "# converting the output to df\n",
    "\n",
    "abused_addresses_df = pd.DataFrame(abused_addresses,columns=['abused_addresses'])"
   ]
  },
  {
   "cell_type": "code",
   "execution_count": 65,
   "metadata": {},
   "outputs": [
    {
     "data": {
      "text/html": [
       "<div>\n",
       "<style scoped>\n",
       "    .dataframe tbody tr th:only-of-type {\n",
       "        vertical-align: middle;\n",
       "    }\n",
       "\n",
       "    .dataframe tbody tr th {\n",
       "        vertical-align: top;\n",
       "    }\n",
       "\n",
       "    .dataframe thead th {\n",
       "        text-align: right;\n",
       "    }\n",
       "</style>\n",
       "<table border=\"1\" class=\"dataframe\">\n",
       "  <thead>\n",
       "    <tr style=\"text-align: right;\">\n",
       "      <th></th>\n",
       "      <th>abused_addresses</th>\n",
       "    </tr>\n",
       "  </thead>\n",
       "  <tbody>\n",
       "    <tr>\n",
       "      <th>0</th>\n",
       "      <td>LcW5MfbLwHayuHRL2jJeQN8AXGWC4Bv6Xk</td>\n",
       "    </tr>\n",
       "    <tr>\n",
       "      <th>1</th>\n",
       "      <td>14AhgtTrXKHGcUsWJRsshN3HPu64rLdxB6</td>\n",
       "    </tr>\n",
       "    <tr>\n",
       "      <th>2</th>\n",
       "      <td>bc1qqcs77r7g08tqwurs7mms5wp346h75qhjx0c5zt</td>\n",
       "    </tr>\n",
       "    <tr>\n",
       "      <th>3</th>\n",
       "      <td>14AhgtTrXKHGcUsWJRsshN3HPu64rLdxB6</td>\n",
       "    </tr>\n",
       "    <tr>\n",
       "      <th>4</th>\n",
       "      <td>14AhgtTrXKHGcUsWJRsshN3HPu64rLdxB6</td>\n",
       "    </tr>\n",
       "  </tbody>\n",
       "</table>\n",
       "</div>"
      ],
      "text/plain": [
       "                             abused_addresses\n",
       "0          LcW5MfbLwHayuHRL2jJeQN8AXGWC4Bv6Xk\n",
       "1          14AhgtTrXKHGcUsWJRsshN3HPu64rLdxB6\n",
       "2  bc1qqcs77r7g08tqwurs7mms5wp346h75qhjx0c5zt\n",
       "3          14AhgtTrXKHGcUsWJRsshN3HPu64rLdxB6\n",
       "4          14AhgtTrXKHGcUsWJRsshN3HPu64rLdxB6"
      ]
     },
     "execution_count": 65,
     "metadata": {},
     "output_type": "execute_result"
    }
   ],
   "source": [
    "abused_addresses_df.head()"
   ]
  },
  {
   "cell_type": "code",
   "execution_count": 67,
   "metadata": {},
   "outputs": [],
   "source": [
    "# converting df to csv to use it later\n",
    "\n",
    "abused_addresses_df.to_csv('../files/abused_addresses.csv')"
   ]
  }
 ],
 "metadata": {
  "kernelspec": {
   "display_name": "Python 3.7.3 64-bit",
   "language": "python",
   "name": "python37364bita5c255c08ee84ee995db25a1aa26e8dd"
  },
  "language_info": {
   "codemirror_mode": {
    "name": "ipython",
    "version": 3
   },
   "file_extension": ".py",
   "mimetype": "text/x-python",
   "name": "python",
   "nbconvert_exporter": "python",
   "pygments_lexer": "ipython3",
   "version": "3.7.3"
  }
 },
 "nbformat": 4,
 "nbformat_minor": 2
}
