{
 "cells": [
  {
   "cell_type": "markdown",
   "metadata": {},
   "source": [
    "#### The following notebook walks you thru the steps of Data Cleaning, Data Engneering and EDA.\n",
    "\n",
    "___"
   ]
  },
  {
   "cell_type": "code",
   "execution_count": 1,
   "metadata": {},
   "outputs": [],
   "source": [
    "# priting over 1 line of code within the same cell\n",
    "\n",
    "from IPython.core.interactiveshell import InteractiveShell\n",
    "InteractiveShell.ast_node_interactivity = \"all\""
   ]
  },
  {
   "cell_type": "code",
   "execution_count": 1,
   "metadata": {},
   "outputs": [
    {
     "ename": "ModuleNotFoundError",
     "evalue": "No module named 'missingno'",
     "output_type": "error",
     "traceback": [
      "\u001b[1;31m---------------------------------------------------------------------------\u001b[0m",
      "\u001b[1;31mModuleNotFoundError\u001b[0m                       Traceback (most recent call last)",
      "\u001b[1;32m<ipython-input-1-7a0c039b162f>\u001b[0m in \u001b[0;36m<module>\u001b[1;34m\u001b[0m\n\u001b[0;32m      5\u001b[0m \u001b[1;33m\u001b[0m\u001b[0m\n\u001b[0;32m      6\u001b[0m \u001b[1;31m# Visualization\u001b[0m\u001b[1;33m\u001b[0m\u001b[1;33m\u001b[0m\u001b[1;33m\u001b[0m\u001b[0m\n\u001b[1;32m----> 7\u001b[1;33m \u001b[1;32mimport\u001b[0m \u001b[0mmissingno\u001b[0m\u001b[1;33m\u001b[0m\u001b[1;33m\u001b[0m\u001b[0m\n\u001b[0m\u001b[0;32m      8\u001b[0m \u001b[1;32mimport\u001b[0m \u001b[0mmatplotlib\u001b[0m\u001b[1;33m.\u001b[0m\u001b[0mpyplot\u001b[0m \u001b[1;32mas\u001b[0m \u001b[0mplt\u001b[0m\u001b[1;33m\u001b[0m\u001b[1;33m\u001b[0m\u001b[0m\n\u001b[0;32m      9\u001b[0m \u001b[1;32mimport\u001b[0m \u001b[0mseaborn\u001b[0m \u001b[1;32mas\u001b[0m \u001b[0msns\u001b[0m\u001b[1;33m\u001b[0m\u001b[1;33m\u001b[0m\u001b[0m\n",
      "\u001b[1;31mModuleNotFoundError\u001b[0m: No module named 'missingno'"
     ]
    }
   ],
   "source": [
    "# importing required libraries\n",
    "import pandas as pd\n",
    "import numpy as np\n",
    "from collections import defaultdict\n",
    "\n",
    "# Visualization\n",
    "import missingno\n",
    "import matplotlib.pyplot as plt\n",
    "import seaborn as sns\n",
    "\n",
    "# extra\n",
    "import warnings\n",
    "warnings.filterwarnings('ignore')"
   ]
  },
  {
   "cell_type": "code",
   "execution_count": 74,
   "metadata": {},
   "outputs": [],
   "source": [
    "# reading df\n",
    "\n",
    "df = pd.read_csv('../files/blocks_0.csv')"
   ]
  },
  {
   "cell_type": "code",
   "execution_count": null,
   "metadata": {},
   "outputs": [],
   "source": [
    "# checking if there are missing values\n",
    "\n",
    "missingno.matrix(df, figsize = (30,5)) # no missing values"
   ]
  },
  {
   "cell_type": "markdown",
   "metadata": {},
   "source": [
    "<br>"
   ]
  },
  {
   "cell_type": "markdown",
   "metadata": {},
   "source": [
    "#### Let's do some data exploration and data cleaning.\n",
    "\n",
    "___"
   ]
  },
  {
   "cell_type": "code",
   "execution_count": 6,
   "metadata": {},
   "outputs": [
    {
     "data": {
      "text/html": [
       "<div>\n",
       "<style scoped>\n",
       "    .dataframe tbody tr th:only-of-type {\n",
       "        vertical-align: middle;\n",
       "    }\n",
       "\n",
       "    .dataframe tbody tr th {\n",
       "        vertical-align: top;\n",
       "    }\n",
       "\n",
       "    .dataframe thead th {\n",
       "        text-align: right;\n",
       "    }\n",
       "</style>\n",
       "<table border=\"1\" class=\"dataframe\">\n",
       "  <thead>\n",
       "    <tr style=\"text-align: right;\">\n",
       "      <th></th>\n",
       "      <th>Unnamed: 0</th>\n",
       "      <th>size</th>\n",
       "      <th>version</th>\n",
       "      <th>block_number</th>\n",
       "      <th>block_timestamp</th>\n",
       "      <th>input_count</th>\n",
       "      <th>output_count</th>\n",
       "      <th>is_coinbase</th>\n",
       "      <th>fee</th>\n",
       "      <th>inputs</th>\n",
       "      <th>outputs</th>\n",
       "    </tr>\n",
       "  </thead>\n",
       "  <tbody>\n",
       "    <tr>\n",
       "      <th>0</th>\n",
       "      <td>0</td>\n",
       "      <td>816</td>\n",
       "      <td>1</td>\n",
       "      <td>679250</td>\n",
       "      <td>2021-04-14 23:51:48+00:00</td>\n",
       "      <td>5</td>\n",
       "      <td>2</td>\n",
       "      <td>False</td>\n",
       "      <td>62493.0</td>\n",
       "      <td>[{'index': 0, 'spent_transaction_hash': 'b4788...</td>\n",
       "      <td>[{'index': 0, 'script_asm': 'OP_DUP OP_HASH160...</td>\n",
       "    </tr>\n",
       "    <tr>\n",
       "      <th>1</th>\n",
       "      <td>1</td>\n",
       "      <td>224</td>\n",
       "      <td>1</td>\n",
       "      <td>679250</td>\n",
       "      <td>2021-04-14 23:51:48+00:00</td>\n",
       "      <td>1</td>\n",
       "      <td>2</td>\n",
       "      <td>False</td>\n",
       "      <td>13560.0</td>\n",
       "      <td>[{'index': 0, 'spent_transaction_hash': 'ff2a7...</td>\n",
       "      <td>[{'index': 0, 'script_asm': 'OP_HASH160 ad2c3a...</td>\n",
       "    </tr>\n",
       "    <tr>\n",
       "      <th>2</th>\n",
       "      <td>2</td>\n",
       "      <td>224</td>\n",
       "      <td>1</td>\n",
       "      <td>679250</td>\n",
       "      <td>2021-04-14 23:51:48+00:00</td>\n",
       "      <td>1</td>\n",
       "      <td>2</td>\n",
       "      <td>False</td>\n",
       "      <td>17920.0</td>\n",
       "      <td>[{'index': 0, 'spent_transaction_hash': '6d452...</td>\n",
       "      <td>[{'index': 0, 'script_asm': 'OP_HASH160 d805ef...</td>\n",
       "    </tr>\n",
       "    <tr>\n",
       "      <th>3</th>\n",
       "      <td>3</td>\n",
       "      <td>368</td>\n",
       "      <td>2</td>\n",
       "      <td>679250</td>\n",
       "      <td>2021-04-14 23:51:48+00:00</td>\n",
       "      <td>1</td>\n",
       "      <td>2</td>\n",
       "      <td>False</td>\n",
       "      <td>14098.0</td>\n",
       "      <td>[{'index': 0, 'spent_transaction_hash': '8a56b...</td>\n",
       "      <td>[{'index': 0, 'script_asm': '0 a88573af66089b1...</td>\n",
       "    </tr>\n",
       "    <tr>\n",
       "      <th>4</th>\n",
       "      <td>4</td>\n",
       "      <td>226</td>\n",
       "      <td>1</td>\n",
       "      <td>679250</td>\n",
       "      <td>2021-04-14 23:51:48+00:00</td>\n",
       "      <td>1</td>\n",
       "      <td>2</td>\n",
       "      <td>False</td>\n",
       "      <td>17479.0</td>\n",
       "      <td>[{'index': 0, 'spent_transaction_hash': '45a2e...</td>\n",
       "      <td>[{'index': 0, 'script_asm': 'OP_DUP OP_HASH160...</td>\n",
       "    </tr>\n",
       "  </tbody>\n",
       "</table>\n",
       "</div>"
      ],
      "text/plain": [
       "   Unnamed: 0  size  version  block_number            block_timestamp  \\\n",
       "0           0   816        1        679250  2021-04-14 23:51:48+00:00   \n",
       "1           1   224        1        679250  2021-04-14 23:51:48+00:00   \n",
       "2           2   224        1        679250  2021-04-14 23:51:48+00:00   \n",
       "3           3   368        2        679250  2021-04-14 23:51:48+00:00   \n",
       "4           4   226        1        679250  2021-04-14 23:51:48+00:00   \n",
       "\n",
       "   input_count  output_count  is_coinbase      fee  \\\n",
       "0            5             2        False  62493.0   \n",
       "1            1             2        False  13560.0   \n",
       "2            1             2        False  17920.0   \n",
       "3            1             2        False  14098.0   \n",
       "4            1             2        False  17479.0   \n",
       "\n",
       "                                              inputs  \\\n",
       "0  [{'index': 0, 'spent_transaction_hash': 'b4788...   \n",
       "1  [{'index': 0, 'spent_transaction_hash': 'ff2a7...   \n",
       "2  [{'index': 0, 'spent_transaction_hash': '6d452...   \n",
       "3  [{'index': 0, 'spent_transaction_hash': '8a56b...   \n",
       "4  [{'index': 0, 'spent_transaction_hash': '45a2e...   \n",
       "\n",
       "                                             outputs  \n",
       "0  [{'index': 0, 'script_asm': 'OP_DUP OP_HASH160...  \n",
       "1  [{'index': 0, 'script_asm': 'OP_HASH160 ad2c3a...  \n",
       "2  [{'index': 0, 'script_asm': 'OP_HASH160 d805ef...  \n",
       "3  [{'index': 0, 'script_asm': '0 a88573af66089b1...  \n",
       "4  [{'index': 0, 'script_asm': 'OP_DUP OP_HASH160...  "
      ]
     },
     "execution_count": 6,
     "metadata": {},
     "output_type": "execute_result"
    }
   ],
   "source": [
    "# visualizing the df\n",
    "\n",
    "df.head()"
   ]
  },
  {
   "cell_type": "code",
   "execution_count": 7,
   "metadata": {},
   "outputs": [
    {
     "data": {
      "text/plain": [
       "(361867, 11)"
      ]
     },
     "execution_count": 7,
     "metadata": {},
     "output_type": "execute_result"
    },
    {
     "name": "stdout",
     "output_type": "stream",
     "text": [
      "<class 'pandas.core.frame.DataFrame'>\n",
      "RangeIndex: 361867 entries, 0 to 361866\n",
      "Data columns (total 11 columns):\n",
      " #   Column           Non-Null Count   Dtype  \n",
      "---  ------           --------------   -----  \n",
      " 0   Unnamed: 0       361867 non-null  int64  \n",
      " 1   size             361867 non-null  int64  \n",
      " 2   version          361867 non-null  int64  \n",
      " 3   block_number     361867 non-null  int64  \n",
      " 4   block_timestamp  361867 non-null  object \n",
      " 5   input_count      361867 non-null  int64  \n",
      " 6   output_count     361867 non-null  int64  \n",
      " 7   is_coinbase      361867 non-null  bool   \n",
      " 8   fee              361867 non-null  float64\n",
      " 9   inputs           361867 non-null  object \n",
      " 10  outputs          361867 non-null  object \n",
      "dtypes: bool(1), float64(1), int64(6), object(3)\n",
      "memory usage: 28.0+ MB\n"
     ]
    }
   ],
   "source": [
    "df.shape\n",
    "df.info()"
   ]
  },
  {
   "cell_type": "markdown",
   "metadata": {},
   "source": [
    "### Columns Description:\n",
    "\n",
    "- |__Unnamed: 0__| -> Redundant column of the index. _'int64'_\n",
    "- |__Hash__| -> The hash of this transaction. _'int64'_\n",
    "- |__Size__| -> The size of block data in bytes. _'int64'_\n",
    "- |__Virtual size__| -> The virtual transaction size (differs from size for witness transactions). _'int64'_\n",
    "- |__Version__| -> Protocol version specified in block which contained this transaction. _'object'_\n",
    "- |__Lock time__| -> Earliest time that miners can include the transaction in their hashing of the Merkle root to attach it in the latest. _'object'_\n",
    "- |__Block hash__| -> Hash of the block which contains this transaction. _'int64'_\n",
    "- |__Block number__| -> Number of the block which contains this transaction. _'int64'_\n",
    "- |__block timestamp__| -> Timestamp of the block which contains this transaction. _'object'_\n",
    "- |__Block timestamp month__| -> Month of the block which contains this transaction. _'int64'_\n",
    "- |__Input count__| -> The number of inputs in the transaction. _'int64'_\n",
    "- |__Output count__| -> The number of outputs in the transaction. _'int64'_\n",
    "- |__Input value__| -> Total value of inputs in the transaction in satoshis. _'int64'_\n",
    "- |__Output value__| -> Total value of outputs in the transaction in satoshis. _'int64'_\n",
    "- |__Is coinbase__| -> Max amount of sets that can be played in a match. _'bool'_\n",
    "- |__Fee__| -> The fee paid by this transaction in sats. _'float64'_\n",
    "- |__Inputs__| -> Transaction inputs. _'object'_\n",
    "- |__Outputs__| -> Transaction outputs. _'object'_"
   ]
  },
  {
   "cell_type": "markdown",
   "metadata": {},
   "source": [
    "<br>"
   ]
  },
  {
   "cell_type": "markdown",
   "metadata": {},
   "source": [
    "#### Checking all columns and changing the type in case it's needed"
   ]
  },
  {
   "cell_type": "code",
   "execution_count": 8,
   "metadata": {},
   "outputs": [
    {
     "data": {
      "text/plain": [
       "RangeIndex(start=0, stop=361867, step=1)"
      ]
     },
     "execution_count": 8,
     "metadata": {},
     "output_type": "execute_result"
    },
    {
     "data": {
      "text/plain": [
       "0              0\n",
       "1              1\n",
       "2              2\n",
       "3              3\n",
       "4              4\n",
       "           ...  \n",
       "361862    361862\n",
       "361863    361863\n",
       "361864    361864\n",
       "361865    361865\n",
       "361866    361866\n",
       "Name: Unnamed: 0, Length: 361867, dtype: int64"
      ]
     },
     "execution_count": 8,
     "metadata": {},
     "output_type": "execute_result"
    }
   ],
   "source": [
    "# index column and Unnamed\n",
    "\n",
    "df.index\n",
    "df['Unnamed: 0']"
   ]
  },
  {
   "cell_type": "code",
   "execution_count": 9,
   "metadata": {},
   "outputs": [],
   "source": [
    "# dropping redundant columns\n",
    "\n",
    "df.drop(columns= 'Unnamed: 0', inplace= True)"
   ]
  },
  {
   "cell_type": "markdown",
   "metadata": {},
   "source": [
    "<br>"
   ]
  },
  {
   "cell_type": "code",
   "execution_count": 10,
   "metadata": {},
   "outputs": [
    {
     "data": {
      "text/plain": [
       "dtype('int64')"
      ]
     },
     "execution_count": 10,
     "metadata": {},
     "output_type": "execute_result"
    }
   ],
   "source": [
    "df['version'].dtype"
   ]
  },
  {
   "cell_type": "code",
   "execution_count": 11,
   "metadata": {},
   "outputs": [
    {
     "data": {
      "text/plain": [
       "1    231187\n",
       "2    130680\n",
       "Name: version, dtype: int64"
      ]
     },
     "execution_count": 11,
     "metadata": {},
     "output_type": "execute_result"
    }
   ],
   "source": [
    "# most nodes are using the version 1\n",
    "\n",
    "df['version'].value_counts()"
   ]
  },
  {
   "cell_type": "markdown",
   "metadata": {},
   "source": [
    "<br>"
   ]
  },
  {
   "cell_type": "code",
   "execution_count": 12,
   "metadata": {},
   "outputs": [
    {
     "data": {
      "text/plain": [
       "679250"
      ]
     },
     "execution_count": 12,
     "metadata": {},
     "output_type": "execute_result"
    },
    {
     "data": {
      "text/plain": [
       "679422"
      ]
     },
     "execution_count": 12,
     "metadata": {},
     "output_type": "execute_result"
    }
   ],
   "source": [
    "# blocks are for Apr 14th\n",
    "\n",
    "df['block_number'].min()\n",
    "df['block_number'].max()"
   ]
  },
  {
   "cell_type": "code",
   "execution_count": null,
   "metadata": {},
   "outputs": [],
   "source": [
    "df['block_number'].value_counts()"
   ]
  },
  {
   "cell_type": "code",
   "execution_count": null,
   "metadata": {},
   "outputs": [],
   "source": [
    "# amount of tx per block\n",
    "\n",
    "sns.displot(x= 'block_number', data= df).set_xticklabels(rotation=30);"
   ]
  },
  {
   "cell_type": "markdown",
   "metadata": {},
   "source": [
    "<br>"
   ]
  },
  {
   "cell_type": "code",
   "execution_count": null,
   "metadata": {},
   "outputs": [],
   "source": [
    "# converting to proper type\n",
    "\n",
    "df['block_timestamp']= pd.to_datetime(df.block_timestamp).dt.tz_localize(None)"
   ]
  },
  {
   "cell_type": "code",
   "execution_count": null,
   "metadata": {},
   "outputs": [],
   "source": [
    "df['block_timestamp'].min()\n",
    "df['block_timestamp'].max()"
   ]
  },
  {
   "cell_type": "code",
   "execution_count": null,
   "metadata": {},
   "outputs": [],
   "source": [
    "df['block_number'].value_counts()"
   ]
  },
  {
   "cell_type": "code",
   "execution_count": null,
   "metadata": {},
   "outputs": [],
   "source": [
    "sns.lineplot(x= 'block_timestamp', y= 'block_number', data= df)"
   ]
  },
  {
   "cell_type": "markdown",
   "metadata": {},
   "source": [
    "<br>"
   ]
  },
  {
   "cell_type": "markdown",
   "metadata": {},
   "source": [
    "<br>"
   ]
  },
  {
   "cell_type": "code",
   "execution_count": null,
   "metadata": {},
   "outputs": [],
   "source": [
    "# big majority of tx have 1 input\n",
    "\n",
    "len(df['input_count'].value_counts())"
   ]
  },
  {
   "cell_type": "code",
   "execution_count": null,
   "metadata": {},
   "outputs": [],
   "source": [
    "len(df[df['input_count']== 1])"
   ]
  },
  {
   "cell_type": "code",
   "execution_count": null,
   "metadata": {},
   "outputs": [],
   "source": [
    "small_inp= df[df['input_count'] < 5]"
   ]
  },
  {
   "cell_type": "code",
   "execution_count": null,
   "metadata": {},
   "outputs": [],
   "source": [
    "len(small_inp)"
   ]
  },
  {
   "cell_type": "code",
   "execution_count": null,
   "metadata": {},
   "outputs": [],
   "source": [
    "small_inp['input_count'].value_counts(normalize= True)"
   ]
  },
  {
   "cell_type": "markdown",
   "metadata": {},
   "source": [
    "<br>"
   ]
  },
  {
   "cell_type": "markdown",
   "metadata": {},
   "source": [
    "<br>"
   ]
  },
  {
   "cell_type": "code",
   "execution_count": null,
   "metadata": {},
   "outputs": [],
   "source": [
    "# same happens with output... unless the UTXO is spent completely most outputs are 2 cuz of the change address\n",
    "# prolly very big numbers of inputs/outputs come from mixers\n",
    "\n",
    "df['output_count'].value_counts()"
   ]
  },
  {
   "cell_type": "code",
   "execution_count": 83,
   "metadata": {},
   "outputs": [],
   "source": [
    "df = df[:100000]"
   ]
  },
  {
   "cell_type": "code",
   "execution_count": 206,
   "metadata": {},
   "outputs": [],
   "source": [
    "def clean_trash(x, index):\n",
    "    y = x[index]\n",
    "    \n",
    "    if y == \"[]\":\n",
    "        return x\n",
    "    chars_to_replace = \"[{'}]\\n( \"\n",
    "\n",
    "    words_to_replace = [\"array\", \"dtype=object\", \"Decimal\", \")index\"]\n",
    "\n",
    "    \n",
    "    for char in chars_to_replace:\n",
    "        y = y.replace(char, \"\")\n",
    "\n",
    "    for word in words_to_replace:\n",
    "        y = y.replace(word, \"\")\n",
    "        \n",
    "    y = y.replace(\")\", \"\")\n",
    "\n",
    "    inputs_dict = defaultdict(list)\n",
    "    cursed_text = y.split(\":\")\n",
    "    inputs_dict[cursed_text[0]].append(cursed_text[1][0])\n",
    "    for i, thing in enumerate(cursed_text):\n",
    "        if i == 0:\n",
    "            continue\n",
    "        thing = thing.split(\",\")\n",
    "        \n",
    "        if i == 1:\n",
    "            last_thing = thing[1]\n",
    "            #inputs_dict[last_thing] = []\n",
    "        else:\n",
    "            try:\n",
    "                thing[0] = int(thing[0])\n",
    "            except ValueError:\n",
    "                pass\n",
    "            \n",
    "            inputs_dict[last_thing].append(thing[0])\n",
    "            try:\n",
    "                last_thing = thing[1]\n",
    "            except IndexError as error:\n",
    "                inputs_dict[\"values\"].append(thing[0])\n",
    "\n",
    "    inputs_dict[\"index\"] = list(range(len(inputs_dict[\"required_signatures\"])))\n",
    "    inputs_dict[\"values\"] = [float(value.replace(\"E\", \"e\").split(\".\")[0]) for value in inputs_dict[\"values\"]]\n",
    "    inputs_dict[\"hash\"] = [x[1]] * len(inputs_dict[\"index\"])\n",
    "    [inputs_dict.pop(key) for key in list(inputs_dict.keys()) if key not in [\"hash\", \"sequence\", \"spent_output_index\", \"spent_transaction_hash\", \"type\", \"values\", \"addresses\"]]\n",
    "\n",
    "    return inputs_dict"
   ]
  },
  {
   "cell_type": "code",
   "execution_count": 207,
   "metadata": {},
   "outputs": [],
   "source": [
    "outputs = df.apply(clean_trash, axis=1, index=-1) # parse \"outputs\" columns\n",
    "inputs = df.apply(clean_trash, axis=1, index=-2) # parse \"inputs\" columns"
   ]
  },
  {
   "cell_type": "code",
   "execution_count": 213,
   "metadata": {},
   "outputs": [
    {
     "data": {
      "text/html": [
       "<div>\n",
       "<style scoped>\n",
       "    .dataframe tbody tr th:only-of-type {\n",
       "        vertical-align: middle;\n",
       "    }\n",
       "\n",
       "    .dataframe tbody tr th {\n",
       "        vertical-align: top;\n",
       "    }\n",
       "\n",
       "    .dataframe thead th {\n",
       "        text-align: right;\n",
       "    }\n",
       "</style>\n",
       "<table border=\"1\" class=\"dataframe\">\n",
       "  <thead>\n",
       "    <tr style=\"text-align: right;\">\n",
       "      <th></th>\n",
       "      <th>spent_transaction_hash</th>\n",
       "      <th>spent_output_index</th>\n",
       "      <th>sequence</th>\n",
       "      <th>type</th>\n",
       "      <th>addresses</th>\n",
       "      <th>values</th>\n",
       "      <th>hash</th>\n",
       "    </tr>\n",
       "  </thead>\n",
       "  <tbody>\n",
       "    <tr>\n",
       "      <th>0</th>\n",
       "      <td>b836bc9e4e2eb34520dded6a97db44b1a8edd86c017b6d...</td>\n",
       "      <td>63</td>\n",
       "      <td>4294967295</td>\n",
       "      <td>pubkeyhash</td>\n",
       "      <td>1GVU5B4LeQ33Q3VrnLhmDAfUP8EP3f9mbJ</td>\n",
       "      <td>117340.0</td>\n",
       "      <td>114e784709ebffef55d7d854d74108854c30e8d033f61f...</td>\n",
       "    </tr>\n",
       "    <tr>\n",
       "      <th>1</th>\n",
       "      <td>4c127c772bf484f2f9203eeac7e0e4b9bb029af6a35bb9...</td>\n",
       "      <td>60</td>\n",
       "      <td>4294967295</td>\n",
       "      <td>pubkeyhash</td>\n",
       "      <td>1CVbrdg7ZmneNXuHeFk6imRXxEba35Z31</td>\n",
       "      <td>172954.0</td>\n",
       "      <td>114e784709ebffef55d7d854d74108854c30e8d033f61f...</td>\n",
       "    </tr>\n",
       "    <tr>\n",
       "      <th>2</th>\n",
       "      <td>4b4f0a9e039197b218a5ef967f1e9b46ab6862291334aa...</td>\n",
       "      <td>73</td>\n",
       "      <td>4294967295</td>\n",
       "      <td>pubkeyhash</td>\n",
       "      <td>1PvpJpJRki3zMFH52dqRrfwchtovE9SGXT</td>\n",
       "      <td>133427.0</td>\n",
       "      <td>114e784709ebffef55d7d854d74108854c30e8d033f61f...</td>\n",
       "    </tr>\n",
       "    <tr>\n",
       "      <th>3</th>\n",
       "      <td>cac79e959c266d24f5c3f26696a4daae5a9e792a7eb930...</td>\n",
       "      <td>88</td>\n",
       "      <td>4294967295</td>\n",
       "      <td>pubkeyhash</td>\n",
       "      <td>1LV8a54q6WDVxJSqt1S1KGFJPktJMJsEva</td>\n",
       "      <td>58374.0</td>\n",
       "      <td>114e784709ebffef55d7d854d74108854c30e8d033f61f...</td>\n",
       "    </tr>\n",
       "    <tr>\n",
       "      <th>4</th>\n",
       "      <td>bc08c4713fd0646d356fcac988e372bc24ec0dd81056b5...</td>\n",
       "      <td>0</td>\n",
       "      <td>4294967295</td>\n",
       "      <td>pubkeyhash</td>\n",
       "      <td>1AfTy17uYsMT7iuEWiXfipm3HtRxA94jL9</td>\n",
       "      <td>166681.0</td>\n",
       "      <td>114e784709ebffef55d7d854d74108854c30e8d033f61f...</td>\n",
       "    </tr>\n",
       "    <tr>\n",
       "      <th>...</th>\n",
       "      <td>...</td>\n",
       "      <td>...</td>\n",
       "      <td>...</td>\n",
       "      <td>...</td>\n",
       "      <td>...</td>\n",
       "      <td>...</td>\n",
       "      <td>...</td>\n",
       "    </tr>\n",
       "    <tr>\n",
       "      <th>0</th>\n",
       "      <td>8bc9cd25781ab02a79c7a1acc4c4dd9270b9109b0fc961...</td>\n",
       "      <td>4</td>\n",
       "      <td>4294967295</td>\n",
       "      <td>witness_v0_keyhash</td>\n",
       "      <td>bc1qdgrltucvjezsa7vfpp939ag535nwvmvk9a8xh3</td>\n",
       "      <td>14621700.0</td>\n",
       "      <td>ec92092f644fcfae6b5558dab732bf2248549c3d050bc5...</td>\n",
       "    </tr>\n",
       "    <tr>\n",
       "      <th>1</th>\n",
       "      <td>a247415306b03ff166a5a99852f75a7538ac81b2a2182e...</td>\n",
       "      <td>5</td>\n",
       "      <td>4294967295</td>\n",
       "      <td>pubkeyhash</td>\n",
       "      <td>1LEt2oo7DwSvouFJ16y9skgUj8vYmeRe7K</td>\n",
       "      <td>2960000.0</td>\n",
       "      <td>ec92092f644fcfae6b5558dab732bf2248549c3d050bc5...</td>\n",
       "    </tr>\n",
       "    <tr>\n",
       "      <th>0</th>\n",
       "      <td>b5aecc97faed338d4d53a7ad71ab80e4a702eb3f07725e...</td>\n",
       "      <td>1</td>\n",
       "      <td>4294967295</td>\n",
       "      <td>pubkeyhash</td>\n",
       "      <td>1FubPwUDuCSTHQi1767x1ukxnxqwXVnxju</td>\n",
       "      <td>24892436.0</td>\n",
       "      <td>891b2cbd155f4fc05843efe3111ac75eb607d5437d5673...</td>\n",
       "    </tr>\n",
       "    <tr>\n",
       "      <th>0</th>\n",
       "      <td>8fe4c7600619a6bb84a3b2fe40853ca1bf7626bd7833f6...</td>\n",
       "      <td>0</td>\n",
       "      <td>4294967295</td>\n",
       "      <td>pubkeyhash</td>\n",
       "      <td>1HUMRaengEURyVbZZvjRFPHDFzVEFVgcU7</td>\n",
       "      <td>12838719.0</td>\n",
       "      <td>387915f77f53295ddc4375a87e912479e9bad6b75f6783...</td>\n",
       "    </tr>\n",
       "    <tr>\n",
       "      <th>0</th>\n",
       "      <td>db36d74924ee89f2c044b930f20714e3c3cf225effee7f...</td>\n",
       "      <td>1</td>\n",
       "      <td>4294967295</td>\n",
       "      <td>scripthash</td>\n",
       "      <td>3NVBRfF11ndk4xXMKWsGev7cziABttutHJ</td>\n",
       "      <td>1825185.0</td>\n",
       "      <td>cc6bdd733a9c75c5fcc49bedbbbb288c8d1de1aa13d448...</td>\n",
       "    </tr>\n",
       "  </tbody>\n",
       "</table>\n",
       "<p>390101 rows × 7 columns</p>\n",
       "</div>"
      ],
      "text/plain": [
       "                               spent_transaction_hash  spent_output_index  \\\n",
       "0   b836bc9e4e2eb34520dded6a97db44b1a8edd86c017b6d...                  63   \n",
       "1   4c127c772bf484f2f9203eeac7e0e4b9bb029af6a35bb9...                  60   \n",
       "2   4b4f0a9e039197b218a5ef967f1e9b46ab6862291334aa...                  73   \n",
       "3   cac79e959c266d24f5c3f26696a4daae5a9e792a7eb930...                  88   \n",
       "4   bc08c4713fd0646d356fcac988e372bc24ec0dd81056b5...                   0   \n",
       "..                                                ...                 ...   \n",
       "0   8bc9cd25781ab02a79c7a1acc4c4dd9270b9109b0fc961...                   4   \n",
       "1   a247415306b03ff166a5a99852f75a7538ac81b2a2182e...                   5   \n",
       "0   b5aecc97faed338d4d53a7ad71ab80e4a702eb3f07725e...                   1   \n",
       "0   8fe4c7600619a6bb84a3b2fe40853ca1bf7626bd7833f6...                   0   \n",
       "0   db36d74924ee89f2c044b930f20714e3c3cf225effee7f...                   1   \n",
       "\n",
       "      sequence                type  \\\n",
       "0   4294967295          pubkeyhash   \n",
       "1   4294967295          pubkeyhash   \n",
       "2   4294967295          pubkeyhash   \n",
       "3   4294967295          pubkeyhash   \n",
       "4   4294967295          pubkeyhash   \n",
       "..         ...                 ...   \n",
       "0   4294967295  witness_v0_keyhash   \n",
       "1   4294967295          pubkeyhash   \n",
       "0   4294967295          pubkeyhash   \n",
       "0   4294967295          pubkeyhash   \n",
       "0   4294967295          scripthash   \n",
       "\n",
       "                                     addresses      values  \\\n",
       "0           1GVU5B4LeQ33Q3VrnLhmDAfUP8EP3f9mbJ    117340.0   \n",
       "1            1CVbrdg7ZmneNXuHeFk6imRXxEba35Z31    172954.0   \n",
       "2           1PvpJpJRki3zMFH52dqRrfwchtovE9SGXT    133427.0   \n",
       "3           1LV8a54q6WDVxJSqt1S1KGFJPktJMJsEva     58374.0   \n",
       "4           1AfTy17uYsMT7iuEWiXfipm3HtRxA94jL9    166681.0   \n",
       "..                                         ...         ...   \n",
       "0   bc1qdgrltucvjezsa7vfpp939ag535nwvmvk9a8xh3  14621700.0   \n",
       "1           1LEt2oo7DwSvouFJ16y9skgUj8vYmeRe7K   2960000.0   \n",
       "0           1FubPwUDuCSTHQi1767x1ukxnxqwXVnxju  24892436.0   \n",
       "0           1HUMRaengEURyVbZZvjRFPHDFzVEFVgcU7  12838719.0   \n",
       "0           3NVBRfF11ndk4xXMKWsGev7cziABttutHJ   1825185.0   \n",
       "\n",
       "                                                 hash  \n",
       "0   114e784709ebffef55d7d854d74108854c30e8d033f61f...  \n",
       "1   114e784709ebffef55d7d854d74108854c30e8d033f61f...  \n",
       "2   114e784709ebffef55d7d854d74108854c30e8d033f61f...  \n",
       "3   114e784709ebffef55d7d854d74108854c30e8d033f61f...  \n",
       "4   114e784709ebffef55d7d854d74108854c30e8d033f61f...  \n",
       "..                                                ...  \n",
       "0   ec92092f644fcfae6b5558dab732bf2248549c3d050bc5...  \n",
       "1   ec92092f644fcfae6b5558dab732bf2248549c3d050bc5...  \n",
       "0   891b2cbd155f4fc05843efe3111ac75eb607d5437d5673...  \n",
       "0   387915f77f53295ddc4375a87e912479e9bad6b75f6783...  \n",
       "0   cc6bdd733a9c75c5fcc49bedbbbb288c8d1de1aa13d448...  \n",
       "\n",
       "[390101 rows x 7 columns]"
      ]
     },
     "execution_count": 213,
     "metadata": {},
     "output_type": "execute_result"
    }
   ],
   "source": [
    "inputs"
   ]
  },
  {
   "cell_type": "code",
   "execution_count": 209,
   "metadata": {},
   "outputs": [
    {
     "name": "stdout",
     "output_type": "stream",
     "text": [
      "Inputs: 68.76720547676086\n"
     ]
    }
   ],
   "source": [
    "import time\n",
    "df_outputs = []\n",
    "df_inputs = []\n",
    "\n",
    "start = time.time()\n",
    "\n",
    "for i in range(outputs.shape[0]):\n",
    "    df_outputs.append(pd.DataFrame.from_dict(outputs.iloc[i]))\n",
    "\n",
    "print(f\"Outputs: {time.time() - start}\")\n",
    "\n",
    "start = time.time()\n",
    "\n",
    "for i in range(inputs.shape[0]):\n",
    "    \n",
    "    if len(inputs.iloc[i].keys()) == 7: # remove entries without inputs (rewards for mining a block)\n",
    "        df_inputs.append(pd.DataFrame.from_dict(inputs.iloc[i]))\n",
    "\n",
    "print(f\"Inputs: {time.time() - start}\")\n"
   ]
  },
  {
   "cell_type": "code",
   "execution_count": 210,
   "metadata": {},
   "outputs": [
    {
     "name": "stdout",
     "output_type": "stream",
     "text": [
      "Inputs: 90.68980288505554\n"
     ]
    }
   ],
   "source": [
    "start = time.time()\n",
    "outputs = pd.concat(df_outputs)\n",
    "print(f\"Outputs: {time.time() - start}\")\n",
    "start = time.time()\n",
    "inputs = pd.concat(df_inputs)\n",
    "print(f\"Inputs: {time.time() - start}\")"
   ]
  },
  {
   "cell_type": "code",
   "execution_count": 212,
   "metadata": {
    "scrolled": true
   },
   "outputs": [],
   "source": [
    "del(df_inputs)\n",
    "del(df_outputs)"
   ]
  },
  {
   "cell_type": "code",
   "execution_count": 253,
   "metadata": {},
   "outputs": [
    {
     "name": "stdout",
     "output_type": "stream",
     "text": [
      "         type                           addresses      values  \\\n",
      "0  scripthash  32Poq8NJmBKDt7eMGKDeTPBc3iw7jGZ3sf   1964880.0   \n",
      "1  scripthash  3HL1QmiZaAT85uRXuNGq2y7rYR4thhBubc     50914.0   \n",
      "0  pubkeyhash  1Q8FRidf61icWzBgivWVXHEyvAmv1ySmuH  17578865.0   \n",
      "\n",
      "                                                hash  \n",
      "0  114e784709ebffef55d7d854d74108854c30e8d033f61f...  \n",
      "1  114e784709ebffef55d7d854d74108854c30e8d033f61f...  \n",
      "0  ec92092f644fcfae6b5558dab732bf2248549c3d050bc5...  \n"
     ]
    },
    {
     "ename": "IndexError",
     "evalue": "list index out of range",
     "output_type": "error",
     "traceback": [
      "\u001b[1;31m---------------------------------------------------------------------------\u001b[0m",
      "\u001b[1;31mIndexError\u001b[0m                                Traceback (most recent call last)",
      "\u001b[1;32m<ipython-input-253-e77f898fe92d>\u001b[0m in \u001b[0;36m<module>\u001b[1;34m\u001b[0m\n\u001b[0;32m     16\u001b[0m \u001b[1;33m\u001b[0m\u001b[0m\n\u001b[0;32m     17\u001b[0m     \u001b[0mhash_values\u001b[0m \u001b[1;33m=\u001b[0m \u001b[0minputs\u001b[0m\u001b[1;33m[\u001b[0m\u001b[0minput_mask\u001b[0m\u001b[1;33m]\u001b[0m\u001b[1;33m[\u001b[0m\u001b[1;34m\"hash\"\u001b[0m\u001b[1;33m]\u001b[0m\u001b[1;33m.\u001b[0m\u001b[0mvalues\u001b[0m\u001b[1;33m.\u001b[0m\u001b[0mtolist\u001b[0m\u001b[1;33m(\u001b[0m\u001b[1;33m)\u001b[0m\u001b[1;33m\u001b[0m\u001b[1;33m\u001b[0m\u001b[0m\n\u001b[1;32m---> 18\u001b[1;33m     \u001b[0moutput_mask\u001b[0m \u001b[1;33m=\u001b[0m \u001b[0mbuild_mask\u001b[0m\u001b[1;33m(\u001b[0m\u001b[0moutputs\u001b[0m\u001b[1;33m,\u001b[0m \u001b[0mhash_values\u001b[0m\u001b[1;33m,\u001b[0m \u001b[1;34m\"hash\"\u001b[0m\u001b[1;33m)\u001b[0m\u001b[1;33m\u001b[0m\u001b[1;33m\u001b[0m\u001b[0m\n\u001b[0m\u001b[0;32m     19\u001b[0m \u001b[1;33m\u001b[0m\u001b[0m\n\u001b[0;32m     20\u001b[0m \u001b[1;33m\u001b[0m\u001b[0m\n",
      "\u001b[1;32m<ipython-input-253-e77f898fe92d>\u001b[0m in \u001b[0;36mbuild_mask\u001b[1;34m(df, values, key)\u001b[0m\n\u001b[0;32m      3\u001b[0m \u001b[1;32mdef\u001b[0m \u001b[0mbuild_mask\u001b[0m\u001b[1;33m(\u001b[0m\u001b[0mdf\u001b[0m\u001b[1;33m,\u001b[0m \u001b[0mvalues\u001b[0m\u001b[1;33m,\u001b[0m \u001b[0mkey\u001b[0m\u001b[1;33m)\u001b[0m\u001b[1;33m:\u001b[0m\u001b[1;33m\u001b[0m\u001b[1;33m\u001b[0m\u001b[0m\n\u001b[0;32m      4\u001b[0m     \u001b[0mmasks\u001b[0m \u001b[1;33m=\u001b[0m \u001b[1;33m[\u001b[0m\u001b[0mdf\u001b[0m\u001b[1;33m[\u001b[0m\u001b[0mkey\u001b[0m\u001b[1;33m]\u001b[0m \u001b[1;33m==\u001b[0m \u001b[0mv\u001b[0m \u001b[1;32mfor\u001b[0m \u001b[0mv\u001b[0m \u001b[1;32min\u001b[0m \u001b[0mvalues\u001b[0m\u001b[1;33m]\u001b[0m\u001b[1;33m\u001b[0m\u001b[1;33m\u001b[0m\u001b[0m\n\u001b[1;32m----> 5\u001b[1;33m     \u001b[0mmask\u001b[0m \u001b[1;33m=\u001b[0m \u001b[0mnp\u001b[0m\u001b[1;33m.\u001b[0m\u001b[0mzeros\u001b[0m\u001b[1;33m(\u001b[0m\u001b[0mmasks\u001b[0m\u001b[1;33m[\u001b[0m\u001b[1;36m0\u001b[0m\u001b[1;33m]\u001b[0m\u001b[1;33m.\u001b[0m\u001b[0mshape\u001b[0m\u001b[1;33m[\u001b[0m\u001b[1;36m0\u001b[0m\u001b[1;33m]\u001b[0m\u001b[1;33m)\u001b[0m\u001b[1;33m\u001b[0m\u001b[1;33m\u001b[0m\u001b[0m\n\u001b[0m\u001b[0;32m      6\u001b[0m     \u001b[1;32mfor\u001b[0m \u001b[0mm\u001b[0m \u001b[1;32min\u001b[0m \u001b[0mmasks\u001b[0m\u001b[1;33m:\u001b[0m\u001b[1;33m\u001b[0m\u001b[1;33m\u001b[0m\u001b[0m\n\u001b[0;32m      7\u001b[0m         \u001b[0mmask\u001b[0m \u001b[1;33m=\u001b[0m \u001b[0mmask\u001b[0m \u001b[1;33m|\u001b[0m \u001b[0mm\u001b[0m\u001b[1;33m\u001b[0m\u001b[1;33m\u001b[0m\u001b[0m\n",
      "\u001b[1;31mIndexError\u001b[0m: list index out of range"
     ]
    }
   ],
   "source": [
    "import numpy as np\n",
    "\n",
    "def build_mask(df, values, key):\n",
    "    masks = [df[key] == v for v in values]\n",
    "    mask = np.zeros(masks[0].shape[0])\n",
    "    for m in masks:\n",
    "        mask = mask | m\n",
    "    \n",
    "    return mask\n",
    "\n",
    "addresses = [\"1GVU5B4LeQ33Q3VrnLhmDAfUP8EP3f9mbJ\", \"bc1qdgrltucvjezsa7vfpp939ag535nwvmvk9a8xh3\"]\n",
    "\n",
    "while True:\n",
    "\n",
    "    input_mask = build_mask(inputs, addresses, \"addresses\")\n",
    "\n",
    "    hash_values = inputs[input_mask][\"hash\"].values.tolist()\n",
    "    output_mask = build_mask(outputs, hash_values, \"hash\")\n",
    "\n",
    "\n",
    "    addresses = outputs[output_mask][\"addresses\"].values.tolist()\n",
    "    print(outputs[output_mask])"
   ]
  }
 ],
 "metadata": {
  "kernelspec": {
   "display_name": "Python 3",
   "language": "python",
   "name": "python3"
  },
  "language_info": {
   "codemirror_mode": {
    "name": "ipython",
    "version": 3
   },
   "file_extension": ".py",
   "mimetype": "text/x-python",
   "name": "python",
   "nbconvert_exporter": "python",
   "pygments_lexer": "ipython3",
   "version": "3.9.2"
  }
 },
 "nbformat": 4,
 "nbformat_minor": 2
}
