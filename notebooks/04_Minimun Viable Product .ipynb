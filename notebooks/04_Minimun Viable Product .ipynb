{
 "cells": [
  {
   "cell_type": "markdown",
   "metadata": {},
   "source": [
    "#### The final function for the MVP.\n",
    "\n",
    "___"
   ]
  },
  {
   "cell_type": "markdown",
   "metadata": {},
   "source": [
    "The goal of this function is to get the user to input an address (rather 'abused' or result of a scam) and get back the whole history of that input... \n",
    "\n",
    "1. Fee paid for the tx\n",
    "2. How much it was sent\n",
    "3. Where the funds ended up \n",
    "4. In how many outputs where the funds splitted\n",
    "5. History of future movements of the funds \n",
    "6. Graph showing the jumps \n",
    "\n",
    "___"
   ]
  },
  {
   "cell_type": "raw",
   "metadata": {},
   "source": [
    "# conda install -c conda-forge python-graphviz"
   ]
  },
  {
   "cell_type": "code",
   "execution_count": 3,
   "metadata": {},
   "outputs": [],
   "source": [
    "# importing libraries\n",
    "\n",
    "import numpy as np\n",
    "import pandas as pd\n",
    "from graphviz import Digraph"
   ]
  },
  {
   "cell_type": "code",
   "execution_count": 4,
   "metadata": {},
   "outputs": [],
   "source": [
    "# importing df created in previous steps\n",
    "\n",
    "inputs= pd.read_csv('../files/inputs.csv')\n",
    "outputs= pd.read_csv('../files/outputs.csv')\n",
    "scams= pd.read_csv('../files/abused_addresses.csv')"
   ]
  },
  {
   "cell_type": "raw",
   "metadata": {},
   "source": [
    "inputs = inputs.drop(\"Unnamed: 0\", axis=1).drop_duplicates(ignore_index=True)\n",
    "outputs = outputs.drop(\"Unnamed: 0\", axis=1).drop_duplicates(ignore_index=True)"
   ]
  },
  {
   "cell_type": "code",
   "execution_count": null,
   "metadata": {},
   "outputs": [],
   "source": [
    "# !pip install gephistreamer"
   ]
  },
  {
   "cell_type": "code",
   "execution_count": null,
   "metadata": {},
   "outputs": [],
   "source": [
    "# need to give it final touches \n",
    "# this is kindda clunky on mac !  ????\n",
    "from gephistreamer import graph\n",
    "from gephistreamer import streamer\n",
    "\n",
    "def build_mask(df, values, key):\n",
    "    masks = [df[key] == v for v in values]\n",
    "    try:\n",
    "        mask = np.zeros(masks[0].shape[0])\n",
    "    except IndexError: # we dont have this address in the input table\n",
    "        return None, None\n",
    "    for m in masks:\n",
    "        mask = (mask | m)\n",
    "\n",
    "    return masks, mask\n",
    "\n",
    "\n",
    "def make_dot(address):\n",
    "    \n",
    "    node_attr = dict(style=\"filled\", shape=\"circle\", align=\"left\", fontsize=\"12\", ranksep=\"0.1\", height=\"0.2\")\n",
    "    dot = Digraph(node_attr=node_attr, graph_attr=dict(size=\"12,12\"))\n",
    "    seen = set()\n",
    "    \n",
    "    def add_nodes(addresses):\n",
    "        \n",
    "        _, input_mask = build_mask(inputs, addresses, \"addresses\")\n",
    "    \n",
    "        hash_values = inputs[input_mask][\"hash\"].values.tolist()\n",
    "        all_masks, output_mask = build_mask(outputs, hash_values, \"hash\")\n",
    "        if all_masks is None:\n",
    "            return dot\n",
    "        for address, mask in zip(addresses, all_masks):\n",
    "            if address not in seen:\n",
    "                dot.node(address, str(address), color='green')\n",
    "                for edge in outputs[mask][\"addresses\"].tolist():\n",
    "                    dot.edge(address, str(edge), constraint='false', color='red')\n",
    "                \n",
    "                seen.add(address)\n",
    "\n",
    "                print(address, 'sent a transaction to the folowing adresses')\n",
    "                print(\"\\n\".join(outputs[mask][\"addresses\"].tolist()))\n",
    "                add_nodes(outputs[output_mask][\"addresses\"].values.tolist())\n",
    "            \n",
    "            return dot\n",
    "\n",
    "            #for address in addresses:\n",
    "            #    print('\\t', address)\n",
    "            #display(inputs[input_mask])\n",
    "            #display(outputs[output_mask])\n",
    "    \n",
    "    add_nodes(address)\n",
    "    return dot\n",
    "\n",
    "g = make_dot([\"38Kc1euSQSaXwXT6BMbtzMKor9UX7es8DU\"])\n",
    "g.view()"
   ]
  },
  {
   "cell_type": "markdown",
   "metadata": {},
   "source": [
    "### Connection should be established properly and nodes should start appearing on gephi software."
   ]
  }
 ],
 "metadata": {
  "kernelspec": {
   "display_name": "Python 3",
   "language": "python",
   "name": "python3"
  },
  "language_info": {
   "codemirror_mode": {
    "name": "ipython",
    "version": 3
   },
   "file_extension": ".py",
   "mimetype": "text/x-python",
   "name": "python",
   "nbconvert_exporter": "python",
   "pygments_lexer": "ipython3",
   "version": "3.7.4"
  }
 },
 "nbformat": 4,
 "nbformat_minor": 2
}
